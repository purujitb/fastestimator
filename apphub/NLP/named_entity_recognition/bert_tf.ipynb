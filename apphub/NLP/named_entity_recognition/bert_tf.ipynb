{
 "cells": [
  {
   "cell_type": "markdown",
   "metadata": {},
   "source": [
    "<h1>Named Entity Recognition using BERT Fine tuning</h1>"
   ]
  },
  {
   "cell_type": "markdown",
   "metadata": {},
   "source": [
    "For the downstream NLP tasks such as question answering, named entity recognition, and language inference, pre-trained word representations tend to perform better. BERT which fine tunes deep bi-directional representation on series of tasks achieves state-of-the-art results. Unlike traditional Tranformer, BERT is trained on “masked language modeling,” which means that it is allowed to see the whole sentence and does not limit the context it can take into account."
   ]
  },
  {
   "cell_type": "markdown",
   "metadata": {},
   "source": [
    "For this example, we are leveraging transformers library to load BERT model and other config files"
   ]
  },
  {
   "cell_type": "code",
   "execution_count": 2,
   "metadata": {},
   "outputs": [],
   "source": [
    "import tempfile\n",
    "import os\n",
    "import numpy as np\n",
    "from typing import Callable, Iterable, List, Union\n",
    "\n",
    "import tensorflow as tf\n",
    "from tensorflow.keras.layers import Dense, Input\n",
    "from tensorflow.keras.models import Model\n",
    "from transformers import BertTokenizer, TFBertModel\n",
    "\n",
    "import fastestimator as fe\n",
    "from fastestimator.dataset.data import german_ner\n",
    "from fastestimator.op.numpyop.numpyop import NumpyOp\n",
    "from fastestimator.op.numpyop.univariate import PadSequence, Tokenize, WordtoId\n",
    "from fastestimator.op.tensorop import TensorOp, Reshape\n",
    "from fastestimator.op.tensorop.loss import CrossEntropy\n",
    "from fastestimator.op.tensorop.model import ModelOp, UpdateOp\n",
    "from fastestimator.trace.metric import Accuracy\n",
    "from fastestimator.trace.io import BestModelSaver\n",
    "from fastestimator.backend import feed_forward"
   ]
  },
  {
   "cell_type": "code",
   "execution_count": 3,
   "metadata": {},
   "outputs": [],
   "source": [
    "max_len = 20\n",
    "batch_size = 64\n",
    "epochs = 10"
   ]
  },
  {
   "cell_type": "markdown",
   "metadata": {},
   "source": [
    "Custom NumpyOp that constructs attention masks for input sequences"
   ]
  },
  {
   "cell_type": "code",
   "execution_count": 4,
   "metadata": {},
   "outputs": [],
   "source": [
    "class AttentionMask(NumpyOp):\n",
    "    def forward(self, data, state):\n",
    "        masks = [float(i > 0) for i in data]\n",
    "        return np.array(masks)"
   ]
  },
  {
   "cell_type": "markdown",
   "metadata": {},
   "source": [
    "char2idx function creates look-up table for the corresponding ids for the labels"
   ]
  },
  {
   "cell_type": "code",
   "execution_count": 5,
   "metadata": {},
   "outputs": [],
   "source": [
    "def char2idx(data):\n",
    "    tag2idx = {t: i for i, t in enumerate(data)}\n",
    "    return tag2idx"
   ]
  },
  {
   "cell_type": "markdown",
   "metadata": {},
   "source": [
    "<h2>Building components</h2>"
   ]
  },
  {
   "cell_type": "markdown",
   "metadata": {},
   "source": [
    "<h3>Step 1: Prepare training & evaluation data and define pipeline</h3>"
   ]
  },
  {
   "cell_type": "markdown",
   "metadata": {},
   "source": [
    "NER dataset from GermEval contains sequences and entity tags from german wikipedia and news corpora. We are loading train and eval sequences dataset along with data and label vocabulary. For this example other nouns are omitted for the simplicity."
   ]
  },
  {
   "cell_type": "code",
   "execution_count": 6,
   "metadata": {},
   "outputs": [],
   "source": [
    "train_data, eval_data, data_vocab, label_vocab = german_ner.load_data()"
   ]
  },
  {
   "cell_type": "markdown",
   "metadata": {},
   "source": [
    "Define a pipeline to tokenize and pad the input sequences and construct attention masks. Attention masks are used to avoid performing attention operation on padded tokens. We are using BERT tokenizer for input sequences tokenization and max length 50 for this example."
   ]
  },
  {
   "cell_type": "code",
   "execution_count": 7,
   "metadata": {},
   "outputs": [],
   "source": [
    "tokenizer = BertTokenizer.from_pretrained('bert-base-uncased', do_lower_case=True)\n",
    "tag2idx = char2idx(label_vocab)\n",
    "pipeline = fe.Pipeline(\n",
    "    train_data=train_data,\n",
    "    eval_data=eval_data,\n",
    "    batch_size=batch_size,\n",
    "    ops=[\n",
    "        Tokenize(inputs=\"x\", outputs=\"x\", tokenize_fn=tokenizer.tokenize),\n",
    "        WordtoId(inputs=\"x\", outputs=\"x\", mapping=tokenizer.convert_tokens_to_ids),\n",
    "        WordtoId(inputs=\"y\", outputs=\"y\", mapping=tag2idx),\n",
    "        PadSequence(max_len=max_len, inputs=\"x\", outputs=\"x\"),\n",
    "        PadSequence(max_len=max_len, value=len(tag2idx), inputs=\"y\", outputs=\"y\"),\n",
    "        AttentionMask(inputs=\"x\", outputs=\"x_masks\")\n",
    "    ])"
   ]
  },
  {
   "cell_type": "markdown",
   "metadata": {},
   "source": [
    "<h3>Step 2: Create model and FastEstimator network</h3>"
   ]
  },
  {
   "cell_type": "markdown",
   "metadata": {},
   "source": [
    "Network architecture has pretrained weights as initialization for downsteam task. Whole network is then trained during the fine tuning."
   ]
  },
  {
   "cell_type": "code",
   "execution_count": 8,
   "metadata": {},
   "outputs": [],
   "source": [
    "def ner_model():\n",
    "    token_inputs = Input((max_len), dtype=tf.int32, name='input_words')\n",
    "    mask_inputs = Input((max_len), dtype=tf.int32, name='input_masks')\n",
    "    bert_model = TFBertModel.from_pretrained(\"bert-base-uncased\")\n",
    "    seq_output, _ = bert_model(token_inputs, attention_mask=mask_inputs)\n",
    "    output = Dense(24, activation='softmax')(seq_output)\n",
    "    model = Model([token_inputs, mask_inputs], output)\n",
    "    return model"
   ]
  },
  {
   "cell_type": "markdown",
   "metadata": {},
   "source": [
    "Model definition is then intantiated by calling fe.build which also associates the model with specific optimizers."
   ]
  },
  {
   "cell_type": "code",
   "execution_count": 9,
   "metadata": {},
   "outputs": [],
   "source": [
    "model = fe.build(model_fn=ner_model, optimizer_fn=lambda: tf.optimizers.Adam(1e-5))"
   ]
  },
  {
   "cell_type": "markdown",
   "metadata": {},
   "source": [
    "fe.Network takes series of operators and here we feed our model in the ModelOp with inputs and outputs. Here, ReshapeOp transforms the prediction and ground truth to scalar or two dimensional vector before feeding it to loss calculation."
   ]
  },
  {
   "cell_type": "code",
   "execution_count": 10,
   "metadata": {},
   "outputs": [],
   "source": [
    "network = fe.Network(ops=[\n",
    "        ModelOp(model=model, inputs=[\"x\", \"x_masks\"], outputs=\"y_pred\"),\n",
    "        Reshape(inputs=\"y\", outputs=\"y\", shape=(-1, )),\n",
    "        Reshape(inputs=\"y_pred\", outputs=\"y_pred\", shape=(-1, 24)),\n",
    "        CrossEntropy(inputs=(\"y_pred\", \"y\"), outputs=\"loss\"),\n",
    "        UpdateOp(model=model, loss_name=\"loss\")\n",
    "    ])"
   ]
  },
  {
   "cell_type": "markdown",
   "metadata": {},
   "source": [
    "<h3>Step 3: Prepare Estimator and configure the training loop</h3>"
   ]
  },
  {
   "cell_type": "markdown",
   "metadata": {},
   "source": [
    "Estimator basically has four arguments network, pipeline, epochs and traces. During the training, we want the accuracy metric and save the model with minimum loss, we will define that in Trace class."
   ]
  },
  {
   "cell_type": "code",
   "execution_count": 11,
   "metadata": {},
   "outputs": [],
   "source": [
    "save_dir=tempfile.mkdtemp()\n",
    "traces = [Accuracy(true_key=\"y\", pred_key=\"y_pred\"), BestModelSaver(model=model, save_dir=save_dir)]"
   ]
  },
  {
   "cell_type": "code",
   "execution_count": 12,
   "metadata": {},
   "outputs": [],
   "source": [
    "estimator = fe.Estimator(network=network,\n",
    "                             pipeline=pipeline,\n",
    "                             epochs=epochs,\n",
    "                             traces=traces)"
   ]
  },
  {
   "cell_type": "markdown",
   "metadata": {},
   "source": [
    "<h2>Training</h2>"
   ]
  },
  {
   "cell_type": "code",
   "execution_count": 13,
   "metadata": {},
   "outputs": [
    {
     "name": "stdout",
     "output_type": "stream",
     "text": [
      "    ______           __  ______     __  _                 __            \n",
      "   / ____/___ ______/ /_/ ____/____/ /_(_)___ ___  ____ _/ /_____  _____\n",
      "  / /_  / __ `/ ___/ __/ __/ / ___/ __/ / __ `__ \\/ __ `/ __/ __ \\/ ___/\n",
      " / __/ / /_/ (__  ) /_/ /___(__  ) /_/ / / / / / / /_/ / /_/ /_/ / /    \n",
      "/_/    \\__,_/____/\\__/_____/____/\\__/_/_/ /_/ /_/\\__,_/\\__/\\____/_/     \n",
      "                                                                        \n",
      "\n",
      "FastEstimator-Start: step: 1; model_lr: 1e-05; \n",
      "WARNING:tensorflow:Gradients do not exist for variables ['tf_bert_model/bert/pooler/dense/kernel:0', 'tf_bert_model/bert/pooler/dense/bias:0'] when minimizing the loss.\n",
      "FastEstimator-Train: step: 1; loss: 3.8005962; \n",
      "FastEstimator-Train: step: 100; loss: 0.40420213; steps/sec: 2.05; \n",
      "FastEstimator-Train: step: 125; epoch: 1; epoch_time: 72.91 sec; \n",
      "FastEstimator-ModelSaver: saved model to /tmp/tmpk1i5vjc2/model_best_loss.h5\n",
      "FastEstimator-Eval: step: 125; epoch: 1; loss: 0.30054897; min_loss: 0.30054897; since_best: 0; accuracy: 0.9269; \n",
      "FastEstimator-Train: step: 200; loss: 0.22695072; steps/sec: 2.0; \n",
      "FastEstimator-Train: step: 250; epoch: 2; epoch_time: 62.35 sec; \n",
      "FastEstimator-ModelSaver: saved model to /tmp/tmpk1i5vjc2/model_best_loss.h5\n",
      "FastEstimator-Eval: step: 250; epoch: 2; loss: 0.1562941; min_loss: 0.1562941; since_best: 0; accuracy: 0.947175; \n",
      "FastEstimator-Train: step: 300; loss: 0.1829088; steps/sec: 1.99; \n",
      "FastEstimator-Train: step: 375; epoch: 3; epoch_time: 62.8 sec; \n",
      "FastEstimator-ModelSaver: saved model to /tmp/tmpk1i5vjc2/model_best_loss.h5\n",
      "FastEstimator-Eval: step: 375; epoch: 3; loss: 0.12876438; min_loss: 0.12876438; since_best: 0; accuracy: 0.956675; \n",
      "FastEstimator-Train: step: 400; loss: 0.1481853; steps/sec: 2.0; \n",
      "FastEstimator-Train: step: 500; loss: 0.13613644; steps/sec: 2.01; \n",
      "FastEstimator-Train: step: 500; epoch: 4; epoch_time: 62.44 sec; \n",
      "FastEstimator-ModelSaver: saved model to /tmp/tmpk1i5vjc2/model_best_loss.h5\n",
      "FastEstimator-Eval: step: 500; epoch: 4; loss: 0.10898326; min_loss: 0.10898326; since_best: 0; accuracy: 0.962875; \n",
      "FastEstimator-Train: step: 600; loss: 0.12551221; steps/sec: 2.0; \n",
      "FastEstimator-Train: step: 625; epoch: 5; epoch_time: 62.37 sec; \n",
      "FastEstimator-ModelSaver: saved model to /tmp/tmpk1i5vjc2/model_best_loss.h5\n",
      "FastEstimator-Eval: step: 625; epoch: 5; loss: 0.097521596; min_loss: 0.097521596; since_best: 0; accuracy: 0.966675; \n",
      "FastEstimator-Train: step: 700; loss: 0.11037835; steps/sec: 2.0; \n",
      "FastEstimator-Train: step: 750; epoch: 6; epoch_time: 62.53 sec; \n",
      "FastEstimator-ModelSaver: saved model to /tmp/tmpk1i5vjc2/model_best_loss.h5\n",
      "FastEstimator-Eval: step: 750; epoch: 6; loss: 0.0885827; min_loss: 0.0885827; since_best: 0; accuracy: 0.970525; \n",
      "FastEstimator-Train: step: 800; loss: 0.09738168; steps/sec: 2.0; \n",
      "FastEstimator-Train: step: 875; epoch: 7; epoch_time: 62.47 sec; \n",
      "FastEstimator-ModelSaver: saved model to /tmp/tmpk1i5vjc2/model_best_loss.h5\n",
      "FastEstimator-Eval: step: 875; epoch: 7; loss: 0.08195208; min_loss: 0.08195208; since_best: 0; accuracy: 0.97235; \n",
      "FastEstimator-Train: step: 900; loss: 0.11297427; steps/sec: 2.0; \n",
      "FastEstimator-Train: step: 1000; loss: 0.08556217; steps/sec: 2.01; \n",
      "FastEstimator-Train: step: 1000; epoch: 8; epoch_time: 62.44 sec; \n",
      "FastEstimator-ModelSaver: saved model to /tmp/tmpk1i5vjc2/model_best_loss.h5\n",
      "FastEstimator-Eval: step: 1000; epoch: 8; loss: 0.07855953; min_loss: 0.07855953; since_best: 0; accuracy: 0.974875; \n",
      "FastEstimator-Train: step: 1100; loss: 0.108659945; steps/sec: 2.01; \n",
      "FastEstimator-Train: step: 1125; epoch: 9; epoch_time: 62.28 sec; \n",
      "FastEstimator-ModelSaver: saved model to /tmp/tmpk1i5vjc2/model_best_loss.h5\n",
      "FastEstimator-Eval: step: 1125; epoch: 9; loss: 0.074070126; min_loss: 0.074070126; since_best: 0; accuracy: 0.9765; \n",
      "FastEstimator-Train: step: 1200; loss: 0.071078494; steps/sec: 2.0; \n",
      "FastEstimator-Train: step: 1250; epoch: 10; epoch_time: 62.34 sec; \n",
      "FastEstimator-ModelSaver: saved model to /tmp/tmpk1i5vjc2/model_best_loss.h5\n",
      "FastEstimator-Eval: step: 1250; epoch: 10; loss: 0.069807574; min_loss: 0.069807574; since_best: 0; accuracy: 0.977925; \n",
      "FastEstimator-Finish: step: 1250; total_time: 728.17 sec; model_lr: 1e-05; \n"
     ]
    }
   ],
   "source": [
    "estimator.fit()"
   ]
  },
  {
   "cell_type": "markdown",
   "metadata": {},
   "source": [
    "<h2>Inferencing</h2>"
   ]
  },
  {
   "cell_type": "markdown",
   "metadata": {},
   "source": [
    "Load model weights using <i>fe.build</i>"
   ]
  },
  {
   "cell_type": "code",
   "execution_count": 14,
   "metadata": {},
   "outputs": [
    {
     "name": "stdout",
     "output_type": "stream",
     "text": [
      "Loaded model weights from /tmp/tmpk1i5vjc2/model_best_loss.h5\n"
     ]
    }
   ],
   "source": [
    "model_name = 'model_best_loss.h5'\n",
    "model_path = os.path.join(save_dir, model_name)\n",
    "trained_model = fe.build(model_fn=ner_model, weights_path=model_path, optimizer_fn=lambda: tf.optimizers.Adam(1e-5))"
   ]
  },
  {
   "cell_type": "code",
   "execution_count": 15,
   "metadata": {},
   "outputs": [
    {
     "name": "stdout",
     "output_type": "stream",
     "text": [
      "Ground truth is:  ['B-PER', 'I-PER', 'I-PER', 'I-PER']\n"
     ]
    }
   ],
   "source": [
    "selected_idx = np.random.randint(1000)\n",
    "print(\"Ground truth is: \",eval_data[selected_idx]['y'])"
   ]
  },
  {
   "cell_type": "markdown",
   "metadata": {},
   "source": [
    "Create data dictionary for the inference. Transform() function in Pipeline and Network applies all the operations on the given data."
   ]
  },
  {
   "cell_type": "code",
   "execution_count": 16,
   "metadata": {},
   "outputs": [],
   "source": [
    "infer_data = {\"x\":eval_data[selected_idx]['x'], \"y\":eval_data[selected_idx]['y']}\n",
    "data = pipeline.transform(infer_data, mode=\"infer\")\n",
    "data = network.transform(data, mode=\"infer\")"
   ]
  },
  {
   "cell_type": "markdown",
   "metadata": {},
   "source": [
    "Get the predictions using <i>feed_forward</i>"
   ]
  },
  {
   "cell_type": "code",
   "execution_count": 17,
   "metadata": {},
   "outputs": [],
   "source": [
    "predictions = feed_forward(trained_model, [data[\"x\"],data[\"x_masks\"]], training=False)\n",
    "predictions = np.array(predictions).reshape(20,24)\n",
    "predictions = np.argmax(predictions, axis=-1)"
   ]
  },
  {
   "cell_type": "code",
   "execution_count": 18,
   "metadata": {},
   "outputs": [],
   "source": [
    "def get_key(val): \n",
    "    for key, value in tag2idx.items(): \n",
    "         if val == value: \n",
    "            return key "
   ]
  },
  {
   "cell_type": "code",
   "execution_count": 19,
   "metadata": {},
   "outputs": [
    {
     "name": "stdout",
     "output_type": "stream",
     "text": [
      "Predictions:  ['B-PER', 'I-PER', 'I-PER', 'I-PER', None, None, None, None, None, None, None, None, None, None, None, None, None, None, None, None]\n"
     ]
    }
   ],
   "source": [
    "print(\"Predictions: \", [get_key(pred) for pred in predictions])"
   ]
  },
  {
   "cell_type": "code",
   "execution_count": null,
   "metadata": {},
   "outputs": [],
   "source": []
  }
 ],
 "metadata": {
  "kernelspec": {
   "display_name": "fe",
   "language": "python",
   "name": "fe"
  },
  "language_info": {
   "codemirror_mode": {
    "name": "ipython",
    "version": 3
   },
   "file_extension": ".py",
   "mimetype": "text/x-python",
   "name": "python",
   "nbconvert_exporter": "python",
   "pygments_lexer": "ipython3",
   "version": "3.6.6"
  }
 },
 "nbformat": 4,
 "nbformat_minor": 4
}
