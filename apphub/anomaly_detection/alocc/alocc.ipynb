{
 "cells": [
  {
   "cell_type": "markdown",
   "metadata": {},
   "source": [
    "# Anomaly Detection with Fastestimator\n",
    "\n",
    "In this notebook we will demonstrate how to do anomaly detection using one class classifier as described in [Adversarially Learned One-Class Classifier for Novelty Detection](https://arxiv.org/pdf/1802.09088.pdf). In real world, outliers or novelty class is often absent from the training dataset. Such problems can be efficiently modeled using one class classifiers.\n",
    "In the algorihm demonstrated below, two networks are trained to compete with each other where one network acts as a novelty detector and other enhaces the inliers and distorts the outliers. We use images of digit \"1\" from MNIST dataset for training and images of other digits as outliers."
   ]
  },
  {
   "cell_type": "code",
   "execution_count": 1,
   "metadata": {},
   "outputs": [],
   "source": [
    "import tempfile\n",
    "\n",
    "import fastestimator as fe\n",
    "import numpy as np\n",
    "import tensorflow as tf\n",
    "from fastestimator.backend import binary_crossentropy\n",
    "from fastestimator.op.numpyop import LambdaOp\n",
    "from fastestimator.op.numpyop.univariate import ExpandDims, Normalize\n",
    "from fastestimator.op.tensorop import TensorOp\n",
    "from fastestimator.op.tensorop.model import ModelOp, UpdateOp\n",
    "from fastestimator.trace import Trace\n",
    "from fastestimator.trace.io import BestModelSaver\n",
    "from fastestimator.util import to_number\n",
    "from sklearn.metrics import auc, f1_score, roc_curve\n",
    "from tensorflow.python.keras import layers"
   ]
  },
  {
   "cell_type": "code",
   "execution_count": 2,
   "metadata": {
    "tags": [
     "parameters"
    ]
   },
   "outputs": [],
   "source": [
    "# Parameters\n",
    "epochs=20\n",
    "batch_size=128\n",
    "max_train_steps_per_epoch=None\n",
    "save_dir=tempfile.mkdtemp()"
   ]
  },
  {
   "cell_type": "markdown",
   "metadata": {},
   "source": [
    "## Building Components\n",
    "\n",
    "### Downloading the data\n",
    "\n",
    "First, we will download training images using tensorflow API. We will use images of digit `1` for training and test images of `1` as inliers and images of other digits as outliers. Outliers comprise 50% of our validation dataset."
   ]
  },
  {
   "cell_type": "code",
   "execution_count": 3,
   "metadata": {},
   "outputs": [],
   "source": [
    "(x_train, y_train), (x_eval, y_eval) = tf.keras.datasets.mnist.load_data()\n",
    "\n",
    "# Create Training Dataset\n",
    "x_train, y_train = x_train[np.where((y_train == 1))], np.zeros(y_train[np.where((y_train == 1))].shape)\n",
    "train_data = fe.dataset.NumpyDataset({\"x\": x_train, \"y\": y_train})\n",
    "\n",
    "# Create Validation Dataset\n",
    "x_eval0, y_eval0 = x_eval[np.where((y_eval == 1))], np.ones(y_eval[np.where((y_eval == 1))].shape)\n",
    "x_eval1, y_eval1 = x_eval[np.where((y_eval != 1))], y_eval[np.where((y_eval != 1))]\n",
    "\n",
    "# Ensuring outliers comprise 50% of the dataset\n",
    "index = np.random.choice(x_eval1.shape[0], int(x_eval0.shape[0]), replace=False)\n",
    "x_eval1, y_eval1 = x_eval1[index], np.zeros(y_eval1[index].shape)\n",
    "\n",
    "x_eval, y_eval = np.concatenate([x_eval0, x_eval1]), np.concatenate([y_eval0, y_eval1])\n",
    "eval_data = fe.dataset.NumpyDataset({\"x\": x_eval, \"y\": y_eval})"
   ]
  },
  {
   "cell_type": "markdown",
   "metadata": {},
   "source": [
    "### Step 1: Create `Pipeline`\n",
    "\n",
    "We will use the `LambdaOp` to add noise to the images during training."
   ]
  },
  {
   "cell_type": "code",
   "execution_count": 4,
   "metadata": {},
   "outputs": [],
   "source": [
    "pipeline = fe.Pipeline(\n",
    "    train_data=train_data,\n",
    "    eval_data=eval_data,\n",
    "    batch_size=batch_size,\n",
    "    ops=[\n",
    "        ExpandDims(inputs=\"x\", outputs=\"x\"),\n",
    "        Normalize(inputs=\"x\", outputs=\"x\", mean=1.0, std=1.0, max_pixel_value=127.5),\n",
    "        LambdaOp(fn=lambda x: x + np.random.normal(loc=0.0, scale=0.155, size=(28, 28, 1)),\n",
    "                 inputs=\"x\",\n",
    "                 outputs=\"x_w_noise\",\n",
    "                 mode=\"train\")\n",
    "    ])"
   ]
  },
  {
   "cell_type": "markdown",
   "metadata": {},
   "source": [
    "We can visualize sample images from our `Pipeline` using the 'get_results' method."
   ]
  },
  {
   "cell_type": "code",
   "execution_count": 5,
   "metadata": {},
   "outputs": [
    {
     "data": {
      "image/png": "[encoded data removed]",
      "text/plain": [
       "<Figure size 450x240 with 2 Axes>"
      ]
     },
     "metadata": {
      "needs_background": "light"
     },
     "output_type": "display_data"
    }
   ],
   "source": [
    "sample_batch = pipeline.get_results()\n",
    "\n",
    "img = fe.util.ImgData(Image=sample_batch[\"x\"][0].numpy().reshape(1, 28, 28, 1), \n",
    "                      Noisy_Image=sample_batch[\"x_w_noise\"][0].numpy().reshape(1, 28, 28, 1))\n",
    "fig = img.paint_figure()"
   ]
  },
  {
   "cell_type": "markdown",
   "metadata": {},
   "source": [
    "### Step 2: Create `Network`\n",
    "\n",
    "The architecture of our model consists of an Autoencoder (ecoder-decoder) network and a Discriminator network.\n",
    "![Network Architecture](./network_architecture.PNG)[Credit: https://arxiv.org/pdf/1802.09088.pdf]"
   ]
  },
  {
   "cell_type": "code",
   "execution_count": 6,
   "metadata": {},
   "outputs": [],
   "source": [
    "def reconstructor(input_shape=(28, 28, 1)):\n",
    "    model = tf.keras.Sequential()\n",
    "    # Encoder Block\n",
    "    model.add(\n",
    "        layers.Conv2D(32, (5, 5),\n",
    "                      strides=(2, 2),\n",
    "                      padding='same',\n",
    "                      kernel_initializer=tf.keras.initializers.TruncatedNormal(stddev=0.02),\n",
    "                      input_shape=input_shape))\n",
    "    model.add(layers.BatchNormalization())\n",
    "    model.add(layers.LeakyReLU(0.2))\n",
    "    model.add(\n",
    "        layers.Conv2D(64, (5, 5),\n",
    "                      strides=(2, 2),\n",
    "                      kernel_initializer=tf.keras.initializers.TruncatedNormal(stddev=0.02),\n",
    "                      padding='same'))\n",
    "    model.add(layers.BatchNormalization())\n",
    "    model.add(layers.LeakyReLU(0.2))\n",
    "    model.add(\n",
    "        layers.Conv2D(128, (5, 5),\n",
    "                      strides=(2, 2),\n",
    "                      kernel_initializer=tf.keras.initializers.TruncatedNormal(stddev=0.02),\n",
    "                      padding='same'))\n",
    "    model.add(layers.BatchNormalization())\n",
    "    model.add(layers.LeakyReLU(0.2))\n",
    "\n",
    "    # Decoder Block\n",
    "    model.add(\n",
    "        layers.Conv2DTranspose(32, (5, 5),\n",
    "                               strides=(2, 2),\n",
    "                               output_padding=(0, 0),\n",
    "                               padding='same',\n",
    "                               kernel_initializer=tf.keras.initializers.RandomNormal(stddev=0.02)))\n",
    "    model.add(layers.BatchNormalization())\n",
    "    model.add(layers.ReLU())\n",
    "    model.add(\n",
    "        layers.Conv2DTranspose(16, (5, 5),\n",
    "                               strides=(2, 2),\n",
    "                               padding='same',\n",
    "                               kernel_initializer=tf.keras.initializers.RandomNormal(stddev=0.02)))\n",
    "    model.add(layers.BatchNormalization())\n",
    "    model.add(layers.ReLU())\n",
    "    model.add(\n",
    "        layers.Conv2DTranspose(1, (5, 5),\n",
    "                               strides=(2, 2),\n",
    "                               padding='same',\n",
    "                               kernel_initializer=tf.keras.initializers.RandomNormal(stddev=0.02),\n",
    "                               activation='tanh'))\n",
    "    return model\n",
    "\n",
    "\n",
    "def discriminator(input_shape=(28, 28, 1)):\n",
    "    model = tf.keras.Sequential()\n",
    "    model.add(\n",
    "        layers.Conv2D(16, (5, 5),\n",
    "                      strides=(2, 2),\n",
    "                      padding='same',\n",
    "                      kernel_initializer=tf.keras.initializers.TruncatedNormal(stddev=0.02),\n",
    "                      input_shape=input_shape))\n",
    "    model.add(layers.BatchNormalization())\n",
    "    model.add(layers.LeakyReLU(0.2))\n",
    "    model.add(\n",
    "        layers.Conv2D(32, (5, 5),\n",
    "                      strides=(2, 2),\n",
    "                      padding='same',\n",
    "                      kernel_initializer=tf.keras.initializers.TruncatedNormal(stddev=0.02)))\n",
    "    model.add(layers.BatchNormalization())\n",
    "    model.add(layers.LeakyReLU(0.2))\n",
    "    model.add(\n",
    "        layers.Conv2D(64, (5, 5),\n",
    "                      strides=(2, 2),\n",
    "                      padding='same',\n",
    "                      kernel_initializer=tf.keras.initializers.TruncatedNormal(stddev=0.02)))\n",
    "    model.add(layers.BatchNormalization())\n",
    "    model.add(layers.LeakyReLU(0.2))\n",
    "    model.add(\n",
    "        layers.Conv2D(128, (5, 5),\n",
    "                      strides=(2, 2),\n",
    "                      padding='same',\n",
    "                      kernel_initializer=tf.keras.initializers.TruncatedNormal(stddev=0.02)))\n",
    "    model.add(layers.LeakyReLU(0.2))\n",
    "    model.add(layers.Flatten())\n",
    "    model.add(layers.Dense(1, activation=\"sigmoid\"))\n",
    "    return model"
   ]
  },
  {
   "cell_type": "code",
   "execution_count": 7,
   "metadata": {},
   "outputs": [],
   "source": [
    "recon_model = fe.build(model_fn=reconstructor, optimizer_fn=lambda: tf.optimizers.RMSprop(2e-4), model_name=\"reconstructor\")\n",
    "disc_model = fe.build(model_fn=discriminator,\n",
    "                      optimizer_fn=lambda: tf.optimizers.RMSprop(1e-4),\n",
    "                      model_name=\"discriminator\")"
   ]
  },
  {
   "cell_type": "markdown",
   "metadata": {},
   "source": [
    "### Defining Loss\n",
    "\n",
    "The losses of both the networks are smilar to a standarad GAN network with the exception of the autoencoder having and additional *reconstruction* loss term to enforce similarity between the input and the reconstructed image.\n",
    "We first define custom `TensorOp`s to calculate the losses of both the networks."
   ]
  },
  {
   "cell_type": "code",
   "execution_count": 8,
   "metadata": {},
   "outputs": [],
   "source": [
    "class RLoss(TensorOp):\n",
    "    def __init__(self, alpha=0.2, inputs=None, outputs=None, mode=None):\n",
    "        super().__init__(inputs, outputs, mode)\n",
    "        self.alpha = alpha\n",
    "\n",
    "    def forward(self, data, state):\n",
    "        fake_score, x_fake, x = data\n",
    "        recon_loss = binary_crossentropy(y_true=x, y_pred=x_fake, from_logits=True)\n",
    "        adv_loss = binary_crossentropy(y_pred=fake_score, y_true=tf.ones_like(fake_score), from_logits=True)\n",
    "        return adv_loss + self.alpha * recon_loss\n",
    "\n",
    "\n",
    "class DLoss(TensorOp):\n",
    "    def forward(self, data, state):\n",
    "        true_score, fake_score = data\n",
    "        real_loss = binary_crossentropy(y_pred=true_score, y_true=tf.ones_like(true_score), from_logits=True)\n",
    "        fake_loss = binary_crossentropy(y_pred=fake_score, y_true=tf.zeros_like(fake_score), from_logits=True)\n",
    "        total_loss = real_loss + fake_loss\n",
    "        return total_loss"
   ]
  },
  {
   "cell_type": "markdown",
   "metadata": {},
   "source": [
    "We now define the `Network` object:"
   ]
  },
  {
   "cell_type": "code",
   "execution_count": 9,
   "metadata": {},
   "outputs": [],
   "source": [
    "network = fe.Network(ops=[\n",
    "    ModelOp(model=recon_model, inputs=\"x_w_noise\", outputs=\"x_fake\", mode=\"train\"),\n",
    "    ModelOp(model=recon_model, inputs=\"x\", outputs=\"x_fake\", mode=\"eval\"),\n",
    "    ModelOp(model=disc_model, inputs=\"x_fake\", outputs=\"fake_score\"),\n",
    "    ModelOp(model=disc_model, inputs=\"x\", outputs=\"true_score\"),\n",
    "    RLoss(inputs=(\"fake_score\", \"x_fake\", \"x\"), outputs=\"rloss\"),\n",
    "    UpdateOp(model=recon_model, loss_name=\"rloss\"),\n",
    "    DLoss(inputs=(\"true_score\", \"fake_score\"), outputs=\"dloss\"),\n",
    "    UpdateOp(model=disc_model, loss_name=\"dloss\")\n",
    "])"
   ]
  },
  {
   "cell_type": "markdown",
   "metadata": {},
   "source": [
    "In this example we will also use the following traces:\n",
    "\n",
    "1. BestModelSaver for saving the best model. For illustration purpose, we will save these models in a temporary directory.\n",
    "2. A custom trace to calculate Area Under the Curve and F1-Score."
   ]
  },
  {
   "cell_type": "code",
   "execution_count": 10,
   "metadata": {},
   "outputs": [],
   "source": [
    "class F1AUCScores(Trace):\n",
    "    \"\"\"Computes F1-Score and AUC Score for a classification task and reports it back to the logger.\n",
    "    \"\"\"\n",
    "    def __init__(self, true_key, pred_key, mode=(\"eval\", \"test\"), output_name=[\"auc_score\", \"f1_score\"]):\n",
    "        super().__init__(inputs=(true_key, pred_key), outputs=output_name, mode=mode)\n",
    "        self.y_true = []\n",
    "        self.y_pred = []\n",
    "\n",
    "    @property\n",
    "    def true_key(self):\n",
    "        return self.inputs[0]\n",
    "\n",
    "    @property\n",
    "    def pred_key(self):\n",
    "        return self.inputs[1]\n",
    "\n",
    "    def on_epoch_begin(self, data):\n",
    "        self.y_true = []\n",
    "        self.y_pred = []\n",
    "\n",
    "    def on_batch_end(self, data):\n",
    "        y_true, y_pred = to_number(data[self.true_key]), to_number(data[self.pred_key])\n",
    "        assert y_pred.size == y_true.size\n",
    "        self.y_pred.extend(y_pred.ravel())\n",
    "        self.y_true.extend(y_true.ravel())\n",
    "\n",
    "    def on_epoch_end(self, data):\n",
    "        fpr, tpr, thresholds = roc_curve(self.y_true, self.y_pred, pos_label=1)\n",
    "        roc_auc = auc(fpr, tpr)\n",
    "        eer_threshold = thresholds[np.nanargmin(np.absolute((1 - tpr - fpr)))]\n",
    "        y_pred_class = np.copy(self.y_pred)\n",
    "        y_pred_class[y_pred_class >= eer_threshold] = 1\n",
    "        y_pred_class[y_pred_class < eer_threshold] = 0\n",
    "        f_score = f1_score(self.y_true, y_pred_class)\n",
    "\n",
    "        data.write_with_log(self.outputs[0], roc_auc)\n",
    "        data.write_with_log(self.outputs[1], f_score)\n",
    "        \n",
    "\n",
    "traces = [\n",
    "    F1AUCScores(true_key=\"y\", pred_key=\"fake_score\", mode=\"eval\", output_name=[\"auc_score\", \"f1_score\"]),\n",
    "    BestModelSaver(model=recon_model, save_dir=save_dir, metric='f1_score', save_best_mode='max', load_best_final=True),\n",
    "    BestModelSaver(model=disc_model, save_dir=save_dir, metric='f1_score', save_best_mode='max', load_best_final=True)\n",
    "]"
   ]
  },
  {
   "cell_type": "markdown",
   "metadata": {},
   "source": [
    "### Step 3: Create `Estimator`"
   ]
  },
  {
   "cell_type": "code",
   "execution_count": 11,
   "metadata": {},
   "outputs": [],
   "source": [
    "estimator = fe.Estimator(pipeline=pipeline,\n",
    "                         network=network,\n",
    "                         epochs=epochs,\n",
    "                         traces=traces,\n",
    "                         max_train_steps_per_epoch=max_train_steps_per_epoch)"
   ]
  },
  {
   "cell_type": "markdown",
   "metadata": {},
   "source": [
    "## Training"
   ]
  },
  {
   "cell_type": "code",
   "execution_count": 12,
   "metadata": {},
   "outputs": [
    {
     "name": "stdout",
     "output_type": "stream",
     "text": [
      "    ______           __  ______     __  _                 __            \n",
      "   / ____/___ ______/ /_/ ____/____/ /_(_)___ ___  ____ _/ /_____  _____\n",
      "  / /_  / __ `/ ___/ __/ __/ / ___/ __/ / __ `__ \\/ __ `/ __/ __ \\/ ___/\n",
      " / __/ / /_/ (__  ) /_/ /___(__  ) /_/ / / / / / / /_/ / /_/ /_/ / /    \n",
      "/_/    \\__,_/____/\\__/_____/____/\\__/_/_/ /_/ /_/\\__,_/\\__/\\____/_/     \n",
      "                                                                        \n",
      "\n",
      "FastEstimator-Start: step: 1; num_device: 1; logging_interval: 100; \n",
      "FastEstimator-Train: step: 1; dloss: 1.4547124; rloss: 0.6044176; \n",
      "FastEstimator-Train: step: 53; epoch: 1; epoch_time: 6.41 sec; \n",
      "FastEstimator-BestModelSaver: Saved model to /tmp/tmpf8gmdf9j/reconstructor_best_f1_score.h5\n",
      "FastEstimator-BestModelSaver: Saved model to /tmp/tmpf8gmdf9j/discriminator_best_f1_score.h5\n",
      "FastEstimator-Eval: step: 53; epoch: 1; dloss: 1.4323395; rloss: 0.6304608; auc_score: 0.758243707426886; f1_score: 0.6554770318021201; since_best_f1_score: 0; max_f1_score: 0.6554770318021201; \n",
      "FastEstimator-Train: step: 100; dloss: 1.0820444; rloss: 0.72240007; steps/sec: 17.02; \n",
      "FastEstimator-Train: step: 106; epoch: 2; epoch_time: 2.1 sec; \n",
      "FastEstimator-BestModelSaver: Saved model to /tmp/tmpf8gmdf9j/reconstructor_best_f1_score.h5\n",
      "FastEstimator-BestModelSaver: Saved model to /tmp/tmpf8gmdf9j/discriminator_best_f1_score.h5\n",
      "FastEstimator-Eval: step: 106; epoch: 2; dloss: 1.418492; rloss: 0.66902; auc_score: 0.8146631993634652; f1_score: 0.7268722466960352; since_best_f1_score: 0; max_f1_score: 0.7268722466960352; \n",
      "FastEstimator-Train: step: 159; epoch: 3; epoch_time: 2.1 sec; \n",
      "FastEstimator-Eval: step: 159; epoch: 3; dloss: 1.4147544; rloss: 0.7020666; auc_score: 0.15153680451784432; f1_score: 0.2431718061674009; since_best_f1_score: 1; max_f1_score: 0.7268722466960352; \n",
      "FastEstimator-Train: step: 200; dloss: 1.0067211; rloss: 0.660446; steps/sec: 25.29; \n",
      "FastEstimator-Train: step: 212; epoch: 4; epoch_time: 2.1 sec; \n",
      "FastEstimator-Eval: step: 212; epoch: 4; dloss: 1.3572774; rloss: 0.7195197; auc_score: 0.019186089386559024; f1_score: 0.06696035242290749; since_best_f1_score: 2; max_f1_score: 0.7268722466960352; \n",
      "FastEstimator-Train: step: 265; epoch: 5; epoch_time: 2.1 sec; \n",
      "FastEstimator-Eval: step: 265; epoch: 5; dloss: 1.1044953; rloss: 0.6936346; auc_score: 0.013531409497564477; f1_score: 0.0599647266313933; since_best_f1_score: 3; max_f1_score: 0.7268722466960352; \n",
      "FastEstimator-Train: step: 300; dloss: 1.0064102; rloss: 0.59952056; steps/sec: 25.26; \n",
      "FastEstimator-Train: step: 318; epoch: 6; epoch_time: 2.1 sec; \n",
      "FastEstimator-Eval: step: 318; epoch: 6; dloss: 1.0178115; rloss: 0.64911795; auc_score: 0.4008981350307594; f1_score: 0.4140969162995595; since_best_f1_score: 4; max_f1_score: 0.7268722466960352; \n",
      "FastEstimator-Train: step: 371; epoch: 7; epoch_time: 2.09 sec; \n",
      "FastEstimator-Eval: step: 371; epoch: 7; dloss: 1.0237744; rloss: 0.6199698; auc_score: 0.37563857245434606; f1_score: 0.3857331571994716; since_best_f1_score: 5; max_f1_score: 0.7268722466960352; \n",
      "FastEstimator-Train: step: 400; dloss: 1.0064098; rloss: 0.5864141; steps/sec: 25.25; \n",
      "FastEstimator-Train: step: 424; epoch: 8; epoch_time: 2.11 sec; \n",
      "FastEstimator-Eval: step: 424; epoch: 8; dloss: 1.010116; rloss: 0.6061601; auc_score: 0.7393793786023405; f1_score: 0.6822183098591549; since_best_f1_score: 6; max_f1_score: 0.7268722466960352; \n",
      "FastEstimator-Train: step: 477; epoch: 9; epoch_time: 2.1 sec; \n",
      "FastEstimator-Eval: step: 477; epoch: 9; dloss: 1.0113664; rloss: 0.6000464; auc_score: 0.790935589667954; f1_score: 0.7227112676056338; since_best_f1_score: 7; max_f1_score: 0.7268722466960352; \n",
      "FastEstimator-Train: step: 500; dloss: 1.0064089; rloss: 0.58218443; steps/sec: 25.19; \n",
      "FastEstimator-Train: step: 530; epoch: 10; epoch_time: 2.11 sec; \n",
      "FastEstimator-Eval: step: 530; epoch: 10; dloss: 1.0653309; rloss: 0.59754586; auc_score: 0.37388422053600884; f1_score: 0.39136183340678715; since_best_f1_score: 8; max_f1_score: 0.7268722466960352; \n",
      "FastEstimator-Train: step: 583; epoch: 11; epoch_time: 2.11 sec; \n",
      "FastEstimator-Eval: step: 583; epoch: 11; dloss: 1.0164112; rloss: 0.5950321; auc_score: 0.5598245648081662; f1_score: 0.5395842547545334; since_best_f1_score: 9; max_f1_score: 0.7268722466960352; \n",
      "FastEstimator-Train: step: 600; dloss: 1.006409; rloss: 0.5809828; steps/sec: 25.18; \n",
      "FastEstimator-Train: step: 636; epoch: 12; epoch_time: 2.11 sec; \n",
      "FastEstimator-Eval: step: 636; epoch: 12; dloss: 1.0633637; rloss: 0.5527591; auc_score: 0.7476892623571193; f1_score: 0.678996036988111; since_best_f1_score: 10; max_f1_score: 0.7268722466960352; \n",
      "FastEstimator-Train: step: 689; epoch: 13; epoch_time: 2.1 sec; \n",
      "FastEstimator-Eval: step: 689; epoch: 13; dloss: 1.2391297; rloss: 0.6055295; auc_score: 0.2452661608026548; f1_score: 0.2874779541446208; since_best_f1_score: 11; max_f1_score: 0.7268722466960352; \n",
      "FastEstimator-Train: step: 700; dloss: 1.0498809; rloss: 0.57184714; steps/sec: 25.21; \n",
      "FastEstimator-Train: step: 742; epoch: 14; epoch_time: 2.1 sec; \n",
      "FastEstimator-Eval: step: 742; epoch: 14; dloss: 1.1737943; rloss: 0.60413545; auc_score: 0.4565204059849794; f1_score: 0.4269960299955889; since_best_f1_score: 12; max_f1_score: 0.7268722466960352; \n",
      "FastEstimator-Train: step: 795; epoch: 15; epoch_time: 2.11 sec; \n",
      "FastEstimator-BestModelSaver: Saved model to /tmp/tmpf8gmdf9j/reconstructor_best_f1_score.h5\n",
      "FastEstimator-BestModelSaver: Saved model to /tmp/tmpf8gmdf9j/discriminator_best_f1_score.h5\n",
      "FastEstimator-Eval: step: 795; epoch: 15; dloss: 1.0669132; rloss: 0.60187024; auc_score: 0.9049614780026781; f1_score: 0.8089788732394366; since_best_f1_score: 0; max_f1_score: 0.8089788732394366; \n",
      "FastEstimator-Train: step: 800; dloss: 1.08307; rloss: 0.5877172; steps/sec: 25.13; \n",
      "FastEstimator-Train: step: 848; epoch: 16; epoch_time: 2.11 sec; \n",
      "FastEstimator-BestModelSaver: Saved model to /tmp/tmpf8gmdf9j/reconstructor_best_f1_score.h5\n",
      "FastEstimator-BestModelSaver: Saved model to /tmp/tmpf8gmdf9j/discriminator_best_f1_score.h5\n",
      "FastEstimator-Eval: step: 848; epoch: 16; dloss: 1.3530512; rloss: 0.6081449; auc_score: 0.941642958334142; f1_score: 0.8656979304271246; since_best_f1_score: 0; max_f1_score: 0.8656979304271246; \n",
      "FastEstimator-Train: step: 900; dloss: 1.3662006; rloss: 0.58985895; steps/sec: 25.06; \n",
      "FastEstimator-Train: step: 901; epoch: 17; epoch_time: 2.14 sec; \n",
      "FastEstimator-BestModelSaver: Saved model to /tmp/tmpf8gmdf9j/reconstructor_best_f1_score.h5\n",
      "FastEstimator-BestModelSaver: Saved model to /tmp/tmpf8gmdf9j/discriminator_best_f1_score.h5\n",
      "FastEstimator-Eval: step: 901; epoch: 17; dloss: 1.227813; rloss: 0.5782926; auc_score: 0.9882008189563158; f1_score: 0.948526176858777; since_best_f1_score: 0; max_f1_score: 0.948526176858777; \n",
      "FastEstimator-Train: step: 954; epoch: 18; epoch_time: 2.11 sec; \n",
      "FastEstimator-BestModelSaver: Saved model to /tmp/tmpf8gmdf9j/reconstructor_best_f1_score.h5\n",
      "FastEstimator-BestModelSaver: Saved model to /tmp/tmpf8gmdf9j/discriminator_best_f1_score.h5\n",
      "FastEstimator-Eval: step: 954; epoch: 18; dloss: 1.328288; rloss: 0.5912411; auc_score: 0.9875805856896116; f1_score: 0.9559471365638766; since_best_f1_score: 0; max_f1_score: 0.9559471365638766; \n",
      "FastEstimator-Train: step: 1000; dloss: 1.2895771; rloss: 0.53317624; steps/sec: 24.93; \n",
      "FastEstimator-Train: step: 1007; epoch: 19; epoch_time: 2.11 sec; \n",
      "FastEstimator-Eval: step: 1007; epoch: 19; dloss: 1.3832934; rloss: 0.6033389; auc_score: 0.9015963826194958; f1_score: 0.813215859030837; since_best_f1_score: 1; max_f1_score: 0.9559471365638766; \n",
      "FastEstimator-Train: step: 1060; epoch: 20; epoch_time: 2.11 sec; \n",
      "FastEstimator-Eval: step: 1060; epoch: 20; dloss: 1.3230872; rloss: 0.5129401; auc_score: 0.4634978361699238; f1_score: 0.48722466960352423; since_best_f1_score: 2; max_f1_score: 0.9559471365638766; \n",
      "FastEstimator-BestModelSaver: Restoring model from /tmp/tmpf8gmdf9j/reconstructor_best_f1_score.h5\n",
      "FastEstimator-BestModelSaver: Restoring model from /tmp/tmpf8gmdf9j/discriminator_best_f1_score.h5\n",
      "FastEstimator-Finish: step: 1060; total_time: 62.06 sec; discriminator_lr: 1e-04; reconstructor_lr: 0.0002; \n"
     ]
    }
   ],
   "source": [
    "estimator.fit()"
   ]
  },
  {
   "cell_type": "markdown",
   "metadata": {},
   "source": [
    "## Inferencing\n",
    "\n",
    "Once the training is finished, we will apply the model to visualize the reconstructed image of the inliers and outliers."
   ]
  },
  {
   "cell_type": "code",
   "execution_count": 13,
   "metadata": {},
   "outputs": [],
   "source": [
    "idx0 = np.random.randint(len(x_eval0))\n",
    "idx1 = np.random.randint(len(x_eval1))\n",
    "\n",
    "data = [{\"x\": x_eval0[idx0]}, {\"x\": x_eval1[idx1]}]\n",
    "result = [pipeline.transform(data[i], mode=\"infer\") for i in range(len(data))]"
   ]
  },
  {
   "cell_type": "code",
   "execution_count": 14,
   "metadata": {},
   "outputs": [],
   "source": [
    "network = fe.Network(ops=[\n",
    "    ModelOp(model=recon_model, inputs=\"x\", outputs=\"x_fake\"),\n",
    "    ModelOp(model=disc_model, inputs=\"x_fake\", outputs=\"fake_score\")\n",
    "])\n",
    "\n",
    "output_imgs = [network.transform(result[i], mode=\"infer\") for i in range(len(result))]"
   ]
  },
  {
   "cell_type": "code",
   "execution_count": 15,
   "metadata": {},
   "outputs": [
    {
     "data": {
      "image/png": "[encoded data removed]",
      "text/plain": [
       "<Figure size 450x240 with 2 Axes>"
      ]
     },
     "metadata": {
      "needs_background": "light"
     },
     "output_type": "display_data"
    },
    {
     "data": {
      "image/png": "[encoded data removed]",
      "text/plain": [
       "<Figure size 450x240 with 2 Axes>"
      ]
     },
     "metadata": {
      "needs_background": "light"
     },
     "output_type": "display_data"
    }
   ],
   "source": [
    "base_image = output_imgs[0][\"x\"].numpy()\n",
    "anomaly_image = output_imgs[1][\"x\"].numpy()\n",
    "\n",
    "recon_base_image = output_imgs[0][\"x_fake\"].numpy()\n",
    "recon_anomaly_image = output_imgs[1][\"x_fake\"].numpy()\n",
    "\n",
    "img1 = fe.util.ImgData(Input_Image=base_image, Reconstructed_Image=recon_base_image)\n",
    "fig1 = img1.paint_figure()\n",
    "\n",
    "img2 = fe.util.ImgData(Input_Image=anomaly_image, Reconstructed_Image=recon_anomaly_image)\n",
    "fig2 = img2.paint_figure()"
   ]
  },
  {
   "cell_type": "markdown",
   "metadata": {},
   "source": [
    "Note that the network is trained on inliers, so it's able to properly reconstruct them but does a poor job at reconstructing the outliers, thereby making it easier for discriminator to detect the outliers. "
   ]
  }
 ],
 "metadata": {
  "kernelspec": {
   "display_name": "Python [conda env:fe_jupyter]",
   "language": "python",
   "name": "conda-env-fe_jupyter-py"
  },
  "language_info": {
   "codemirror_mode": {
    "name": "ipython",
    "version": 3
   },
   "file_extension": ".py",
   "mimetype": "text/x-python",
   "name": "python",
   "nbconvert_exporter": "python",
   "pygments_lexer": "ipython3",
   "version": "3.6.12"
  }
 },
 "nbformat": 4,
 "nbformat_minor": 2
}
