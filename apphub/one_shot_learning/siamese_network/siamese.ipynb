{
 "cells": [
  {
   "cell_type": "markdown",
   "metadata": {},
   "source": [
    "# One-Shot Learning using a Siamese Network in FastEstimator"
   ]
  },
  {
   "cell_type": "markdown",
   "metadata": {},
   "source": [
    "This notebook demonstrates how to perform one-shot learning using a Siamese Network in FastEstimator.\n",
    "\n",
    "In one-shot learning we classify based on only a single example of each class. This ability to learn from very little data could be useful in many machine learning problems. The details of the method are presented in [Siamese neural networks for one-shot image recognition](https://www.cs.cmu.edu/~rsalakhu/papers/oneshot1.pdf).\n",
    "\n",
    "We will use the Omniglot dataset for training and evaluation. The Omniglot dataset consists of 50 different alphabets split into background (30 alphabets) and evaluation (20 alphabets) sets. Each alphabet has a number of characters, with 20 images for each character."
   ]
  },
  {
   "cell_type": "code",
   "execution_count": 1,
   "metadata": {},
   "outputs": [],
   "source": [
    "import tempfile\n",
    "\n",
    "import os\n",
    "import cv2\n",
    "import numpy as np\n",
    "\n",
    "import tensorflow as tf\n",
    "import fastestimator as fe\n",
    "\n",
    "from matplotlib import pyplot as plt"
   ]
  },
  {
   "cell_type": "markdown",
   "metadata": {},
   "source": [
    "## Building Components"
   ]
  },
  {
   "cell_type": "code",
   "execution_count": 2,
   "metadata": {
    "tags": [
     "parameters"
    ]
   },
   "outputs": [],
   "source": [
    "# Parameters\n",
    "epochs = 200\n",
    "batch_size = 128\n",
    "max_train_steps_per_epoch = None\n",
    "max_eval_steps_per_epoch = None\n",
    "save_dir = tempfile.mkdtemp()\n",
    "data_dir = None"
   ]
  },
  {
   "cell_type": "markdown",
   "metadata": {},
   "source": [
    "### Step 1: Create `Pipeline`"
   ]
  },
  {
   "cell_type": "code",
   "execution_count": 3,
   "metadata": {},
   "outputs": [],
   "source": [
    "from fastestimator.dataset.data import omniglot\n",
    "\n",
    "train_data, eval_data = omniglot.load_data(root_dir=data_dir)\n",
    "test_data = eval_data.split(0.5)"
   ]
  },
  {
   "cell_type": "markdown",
   "metadata": {},
   "source": [
    "For training, batches of data are created with half of the batch consisting of image pairs drawn from the same character, and the other half consisting of image pairs drawn from different characters. The target label is 1 for image pairs from the same character and 0 otherwise. The aim is to learn to quantify similarity between any given pair of images."
   ]
  },
  {
   "cell_type": "code",
   "execution_count": 4,
   "metadata": {},
   "outputs": [],
   "source": [
    "from fastestimator.op.numpyop.meta import Sometimes\n",
    "from fastestimator.op.numpyop.multivariate import ShiftScaleRotate\n",
    "from fastestimator.op.numpyop.univariate import Minmax, ReadImage\n",
    "\n",
    "pipeline = fe.Pipeline(\n",
    "    train_data=train_data,\n",
    "    eval_data=eval_data,\n",
    "    test_data=test_data,\n",
    "    batch_size=batch_size,\n",
    "    ops=[\n",
    "        ReadImage(inputs=\"x_a\", outputs=\"x_a\", color_flag=\"gray\"),\n",
    "        ReadImage(inputs=\"x_b\", outputs=\"x_b\", color_flag=\"gray\"),\n",
    "        Sometimes(\n",
    "            ShiftScaleRotate(image_in=\"x_a\",\n",
    "                             image_out=\"x_a\",\n",
    "                             shift_limit=0.05,\n",
    "                             scale_limit=0.2,\n",
    "                             rotate_limit=10.0,\n",
    "                             mode=\"train\"),\n",
    "            prob=0.89),\n",
    "        Sometimes(\n",
    "            ShiftScaleRotate(image_in=\"x_b\",\n",
    "                             image_out=\"x_b\",\n",
    "                             shift_limit=0.05,\n",
    "                             scale_limit=0.2,\n",
    "                             rotate_limit=10.0,\n",
    "                             mode=\"train\"),\n",
    "            prob=0.89),\n",
    "        Minmax(inputs=\"x_a\", outputs=\"x_a\"),\n",
    "        Minmax(inputs=\"x_b\", outputs=\"x_b\")\n",
    "    ])"
   ]
  },
  {
   "cell_type": "markdown",
   "metadata": {},
   "source": [
    "We can visualize sample images from the `Pipeline` using the `get_results` method:"
   ]
  },
  {
   "cell_type": "code",
   "execution_count": 5,
   "metadata": {},
   "outputs": [
    {
     "name": "stdout",
     "output_type": "stream",
     "text": [
      "Image pair from same character\n"
     ]
    },
    {
     "data": {
      "image/png": "[encoded data removed]",
      "text/plain": [
       "<Figure size 432x288 with 2 Axes>"
      ]
     },
     "metadata": {
      "needs_background": "light"
     },
     "output_type": "display_data"
    },
    {
     "name": "stdout",
     "output_type": "stream",
     "text": [
      "Image pair from different characters\n"
     ]
    },
    {
     "data": {
      "image/png": "[encoded data removed]",
      "text/plain": [
       "<Figure size 432x288 with 2 Axes>"
      ]
     },
     "metadata": {
      "needs_background": "light"
     },
     "output_type": "display_data"
    }
   ],
   "source": [
    "sample_batch = pipeline.get_results()\n",
    "\n",
    "pair1_img_a = sample_batch[\"x_a\"][0]\n",
    "pair1_img_b = sample_batch[\"x_b\"][0]\n",
    "\n",
    "pair2_img_a = sample_batch[\"x_a\"][1]\n",
    "pair2_img_b = sample_batch[\"x_b\"][1]\n",
    "\n",
    "if sample_batch[\"y\"][0] ==1:\n",
    "    print('Image pair from same character')\n",
    "else:\n",
    "    print('Image pair from different characters')\n",
    "    \n",
    "plt.subplot(121)\n",
    "plt.imshow(np.squeeze(pair1_img_a))\n",
    "\n",
    "plt.subplot(122)\n",
    "plt.imshow(np.squeeze(pair1_img_b))\n",
    "\n",
    "plt.show()\n",
    "    \n",
    "if sample_batch[\"y\"][1] ==1:\n",
    "    print('Image pair from same character')\n",
    "else:\n",
    "    print('Image pair from different characters')\n",
    "    \n",
    "plt.subplot(121)\n",
    "plt.imshow(np.squeeze(pair2_img_a))\n",
    "\n",
    "plt.subplot(122)\n",
    "plt.imshow(np.squeeze(pair2_img_b))\n",
    "\n",
    "plt.show()"
   ]
  },
  {
   "cell_type": "markdown",
   "metadata": {},
   "source": [
    "### Step 2: Create `Network`"
   ]
  },
  {
   "cell_type": "markdown",
   "metadata": {},
   "source": [
    "Our siamese network has two convolutional arms which accept distinct inputs. However, the weights on both these convolutional arms are shared. Each convolutional arm works as a feature extractor which produces a feature vector. L1 component-wise distance between these vectors is computed which is used to classify whether the image pair belongs to the same or different classes (characters). "
   ]
  },
  {
   "cell_type": "code",
   "execution_count": 6,
   "metadata": {},
   "outputs": [],
   "source": [
    "from tensorflow.python.keras import Model, Sequential, layers\n",
    "from tensorflow.python.keras.initializers import RandomNormal\n",
    "from tensorflow.python.keras.regularizers import l2\n",
    "    \n",
    "\n",
    "def siamese_network(input_shape=(105, 105, 1), classes=1):\n",
    "    \"\"\"Network Architecture\"\"\"\n",
    "    left_input = layers.Input(shape=input_shape)\n",
    "    right_input = layers.Input(shape=input_shape)\n",
    "\n",
    "    #Creating the convnet which shares weights between the left and right legs of Siamese network\n",
    "    siamese_convnet = Sequential()\n",
    "\n",
    "    siamese_convnet.add(\n",
    "        layers.Conv2D(filters=64,\n",
    "                      kernel_size=10,\n",
    "                      strides=1,\n",
    "                      input_shape=input_shape,\n",
    "                      activation='relu',\n",
    "                      kernel_initializer=RandomNormal(mean=0, stddev=0.01),\n",
    "                      kernel_regularizer=l2(1e-2),\n",
    "                      bias_initializer=RandomNormal(mean=0.5, stddev=0.01)))\n",
    "\n",
    "    siamese_convnet.add(layers.MaxPooling2D(pool_size=(2, 2)))\n",
    "\n",
    "    siamese_convnet.add(\n",
    "        layers.Conv2D(filters=128,\n",
    "                      kernel_size=7,\n",
    "                      strides=1,\n",
    "                      activation='relu',\n",
    "                      kernel_initializer=RandomNormal(mean=0, stddev=0.01),\n",
    "                      kernel_regularizer=l2(1e-2),\n",
    "                      bias_initializer=RandomNormal(mean=0.5, stddev=0.01)))\n",
    "\n",
    "    siamese_convnet.add(layers.MaxPooling2D(pool_size=(2, 2)))\n",
    "\n",
    "    siamese_convnet.add(\n",
    "        layers.Conv2D(filters=128,\n",
    "                      kernel_size=4,\n",
    "                      strides=1,\n",
    "                      activation='relu',\n",
    "                      kernel_initializer=RandomNormal(mean=0, stddev=0.01),\n",
    "                      kernel_regularizer=l2(1e-2),\n",
    "                      bias_initializer=RandomNormal(mean=0.5, stddev=0.01)))\n",
    "\n",
    "    siamese_convnet.add(layers.MaxPooling2D(pool_size=(2, 2)))\n",
    "\n",
    "    siamese_convnet.add(\n",
    "        layers.Conv2D(filters=256,\n",
    "                      kernel_size=4,\n",
    "                      strides=1,\n",
    "                      activation='relu',\n",
    "                      kernel_initializer=RandomNormal(mean=0, stddev=0.01),\n",
    "                      kernel_regularizer=l2(1e-2),\n",
    "                      bias_initializer=RandomNormal(mean=0.5, stddev=0.01)))\n",
    "\n",
    "    siamese_convnet.add(layers.Flatten())\n",
    "\n",
    "    siamese_convnet.add(\n",
    "        layers.Dense(4096,\n",
    "                     activation='sigmoid',\n",
    "                     kernel_initializer=RandomNormal(mean=0, stddev=0.2),\n",
    "                     kernel_regularizer=l2(1e-4),\n",
    "                     bias_initializer=RandomNormal(mean=0.5, stddev=0.01)))\n",
    "\n",
    "    encoded_left_input = siamese_convnet(left_input)\n",
    "    encoded_right_input = siamese_convnet(right_input)\n",
    "\n",
    "    l1_encoded = layers.Lambda(lambda x: tf.abs(x[0] - x[1]))([encoded_left_input, encoded_right_input])\n",
    "\n",
    "    output = layers.Dense(classes,\n",
    "                          activation='sigmoid',\n",
    "                          kernel_initializer=RandomNormal(mean=0, stddev=0.2),\n",
    "                          bias_initializer=RandomNormal(mean=0.5, stddev=0.01))(l1_encoded)\n",
    "\n",
    "    return Model(inputs=[left_input, right_input], outputs=output)"
   ]
  },
  {
   "cell_type": "markdown",
   "metadata": {},
   "source": [
    "We now prepare the `model` and define a `Network` object."
   ]
  },
  {
   "cell_type": "code",
   "execution_count": 7,
   "metadata": {},
   "outputs": [],
   "source": [
    "from fastestimator.op.tensorop.loss import CrossEntropy\n",
    "from fastestimator.op.tensorop.model import ModelOp, UpdateOp\n",
    "\n",
    "\n",
    "model = fe.build(model_fn=siamese_network, model_name=\"siamese_net\", optimizer_fn=\"adam\")\n",
    "\n",
    "network = fe.Network(ops=[\n",
    "    ModelOp(inputs=[\"x_a\", \"x_b\"], model=model, outputs=\"y_pred\"),\n",
    "    CrossEntropy(inputs=(\"y_pred\", \"y\"), outputs=\"loss\", form=\"binary\"),\n",
    "    UpdateOp(model=model, loss_name=\"loss\")\n",
    "])"
   ]
  },
  {
   "cell_type": "markdown",
   "metadata": {},
   "source": [
    "In this example we will also use the following traces:\n",
    "1. LRScheduler with a constant decay schedule as described in the [paper](https://www.cs.cmu.edu/~rsalakhu/papers/oneshot1.pdf).\n",
    "2. BestModelSaver for saving the best model. For illustration purpose, we will save these models in a temporary directory.\n",
    "3. EarlyStopping for stopping training if the monitored metric doesn't improve within a specified number of epochs.\n",
    "4. A custom trace to calculate one shot classification accuracy as described in the [paper](https://www.cs.cmu.edu/~rsalakhu/papers/oneshot1.pdf).\n",
    "This trace performs a 20-way within-alphabet classification task in which an alphabet is first chosen from among those reserved for the evaluation set. Then, nineteen other characters are taken uniformly at random from the alphabet. The first character's image is compared with another image of the same character and with images of the other nineteen characters. This is called a one-shot trial. The trial is considered a success if the network outputs the highest similarity (probability) score for the image pair belonging to same character. "
   ]
  },
  {
   "cell_type": "code",
   "execution_count": 8,
   "metadata": {},
   "outputs": [],
   "source": [
    "from fastestimator.backend import feed_forward\n",
    "from fastestimator.trace import Trace\n",
    "from fastestimator.trace.adapt import EarlyStopping, LRScheduler\n",
    "from fastestimator.trace.io import BestModelSaver\n",
    "from fastestimator.trace.metric import Accuracy\n",
    "from fastestimator.util import Data\n",
    "\n",
    "\n",
    "def lr_schedule(epoch):\n",
    "    \"\"\"Learning rate schedule\"\"\"\n",
    "    lr = 0.0001*np.power(0.99, epoch)\n",
    "    return lr\n",
    "\n",
    "\n",
    "class OneShotAccuracy(Trace):\n",
    "    \"\"\"Trace for calculating one shot accuracy\"\"\"\n",
    "    def __init__(self, dataset, model, N=20, trials=400, mode=[\"eval\", \"test\"], output_name=\"one_shot_accuracy\"):\n",
    "\n",
    "        super().__init__(mode=mode, outputs=output_name)\n",
    "        self.dataset = dataset\n",
    "        self.model = model\n",
    "        self.total = 0\n",
    "        self.correct = 0\n",
    "        self.output_name = output_name\n",
    "        self.N = N\n",
    "        self.trials = trials\n",
    "\n",
    "    def on_epoch_begin(self, data: Data):\n",
    "        self.total = 0\n",
    "        self.correct = 0\n",
    "\n",
    "    def on_epoch_end(self, data: Data):\n",
    "        for _ in range(self.trials):\n",
    "            img_path = self.dataset.one_shot_trial(self.N)\n",
    "            input_img = (np.array([np.expand_dims(cv2.imread(i, cv2.IMREAD_GRAYSCALE), -1) / 255. for i in img_path[0]],\n",
    "                                  dtype=np.float32),\n",
    "                         np.array([np.expand_dims(cv2.imread(i, cv2.IMREAD_GRAYSCALE), -1) / 255. for i in img_path[1]],\n",
    "                                  dtype=np.float32))\n",
    "            prediction_score = feed_forward(self.model, input_img, training=False).numpy()\n",
    "\n",
    "            if np.argmax(prediction_score) == 0 and prediction_score.std() > 0.01:\n",
    "                self.correct += 1\n",
    "\n",
    "            self.total += 1\n",
    "\n",
    "        data.write_with_log(self.outputs[0], self.correct / self.total)\n",
    "\n",
    "        \n",
    "traces = [\n",
    "    LRScheduler(model=model, lr_fn=lr_schedule),\n",
    "    Accuracy(true_key=\"y\", pred_key=\"y_pred\"),\n",
    "    OneShotAccuracy(dataset=eval_data, model=model, output_name='one_shot_accuracy'),\n",
    "    BestModelSaver(model=model, save_dir=save_dir, metric=\"one_shot_accuracy\", save_best_mode=\"max\"),\n",
    "    EarlyStopping(monitor=\"one_shot_accuracy\", patience=20, compare='max', mode=\"eval\")\n",
    "]"
   ]
  },
  {
   "cell_type": "markdown",
   "metadata": {},
   "source": [
    "### Step 3: Create `Estimator`"
   ]
  },
  {
   "cell_type": "code",
   "execution_count": 9,
   "metadata": {},
   "outputs": [],
   "source": [
    "estimator = fe.Estimator(network=network,\n",
    "                         pipeline=pipeline,\n",
    "                         epochs=epochs,\n",
    "                         traces=traces, \n",
    "                         max_train_steps_per_epoch=max_train_steps_per_epoch,\n",
    "                         max_eval_steps_per_epoch=max_eval_steps_per_epoch)"
   ]
  },
  {
   "cell_type": "markdown",
   "metadata": {},
   "source": [
    "## Training and Testing"
   ]
  },
  {
   "cell_type": "code",
   "execution_count": 10,
   "metadata": {},
   "outputs": [],
   "source": [
    "# Training\n",
    "estimator.fit()"
   ]
  },
  {
   "cell_type": "markdown",
   "metadata": {},
   "source": [
    "Now, we can load the best model to check its one-shot accuracy on the test set:"
   ]
  },
  {
   "cell_type": "code",
   "execution_count": 11,
   "metadata": {},
   "outputs": [
    {
     "name": "stdout",
     "output_type": "stream",
     "text": [
      "Loaded model weights from /tmp/tmptw2czltd/siamese_net_best_one_shot_accuracy.h5\n",
      "FastEstimator-Test: epoch: 110; accuracy: 0.9256060606060607; one_shot_accuracy: 0.7875; \n"
     ]
    }
   ],
   "source": [
    "# Testing\n",
    "fe.backend.load_model(model, os.path.join(save_dir, 'siamese_net_best_one_shot_accuracy.h5'))\n",
    "estimator.test()"
   ]
  },
  {
   "cell_type": "markdown",
   "metadata": {},
   "source": [
    "## Inferencing"
   ]
  },
  {
   "cell_type": "markdown",
   "metadata": {},
   "source": [
    "Let's perform inferencing on some elements in the test dataset. Here, we generate a 5-way one shot trial for demo purposes."
   ]
  },
  {
   "cell_type": "code",
   "execution_count": 12,
   "metadata": {},
   "outputs": [],
   "source": [
    "#Generating one-shot trial set for 5-way one shot trial\n",
    "img_path = test_data.one_shot_trial(5)\n",
    "input_img = (np.array([np.expand_dims(cv2.imread(i, cv2.IMREAD_GRAYSCALE), -1) / 255. for i in img_path[0]],\n",
    "                      dtype=np.float32),\n",
    "             np.array([np.expand_dims(cv2.imread(i, cv2.IMREAD_GRAYSCALE), -1) / 255. for i in img_path[1]],\n",
    "                      dtype=np.float32))\n",
    "\n",
    "prediction_score = feed_forward(model, input_img, training=False).numpy()"
   ]
  },
  {
   "cell_type": "markdown",
   "metadata": {},
   "source": [
    "The test image is predicted to be belonging to the class with the maximum similarity. "
   ]
  },
  {
   "cell_type": "code",
   "execution_count": 13,
   "metadata": {},
   "outputs": [
    {
     "data": {
      "image/png": "[encoded data removed]",
      "text/plain": [
       "<Figure size 288x288 with 1 Axes>"
      ]
     },
     "metadata": {
      "needs_background": "light"
     },
     "output_type": "display_data"
    },
    {
     "data": {
      "image/png": "[encoded data removed]",
      "text/plain": [
       "<Figure size 1296x1296 with 5 Axes>"
      ]
     },
     "metadata": {
      "needs_background": "light"
     },
     "output_type": "display_data"
    }
   ],
   "source": [
    "plt.figure(figsize=(4, 4))\n",
    "plt.imshow(np.squeeze(input_img[0][0]));\n",
    "plt.title('test image')\n",
    "plt.axis('off');\n",
    "plt.show()\n",
    "\n",
    "plt.figure(figsize=(18, 18))\n",
    "plt.subplot(151)\n",
    "plt.imshow(np.squeeze(input_img[1][0]));\n",
    "plt.title('Similarity with test image: {:0.2f}%'.format(100*prediction_score[0][0]))\n",
    "plt.axis('off');\n",
    "\n",
    "plt.subplot(152)\n",
    "plt.imshow(np.squeeze(input_img[1][1]));\n",
    "plt.title('Similarity with test image: {:0.2f}%'.format(100*prediction_score[1][0]))\n",
    "plt.axis('off');\n",
    "\n",
    "plt.subplot(153)\n",
    "plt.imshow(np.squeeze(input_img[1][2]));\n",
    "plt.title('Similarity with test image: {:0.2f}%'.format(100*prediction_score[2][0]))\n",
    "plt.axis('off');\n",
    "\n",
    "plt.subplot(154)\n",
    "plt.imshow(np.squeeze(input_img[1][3]));\n",
    "plt.title('Similarity with test image: {:0.2f}%'.format(100*prediction_score[3][0]))\n",
    "plt.axis('off');\n",
    "\n",
    "plt.subplot(155)\n",
    "plt.imshow(np.squeeze(input_img[1][4]));\n",
    "plt.title('Similarity with test image: {:0.2f}%'.format(100*prediction_score[4][0]))\n",
    "plt.axis('off');\n",
    "\n",
    "plt.tight_layout()"
   ]
  }
 ],
 "metadata": {
  "celltoolbar": "Tags",
  "kernelspec": {
   "display_name": "Python 3",
   "language": "python",
   "name": "python3"
  },
  "language_info": {
   "codemirror_mode": {
    "name": "ipython",
    "version": 3
   },
   "file_extension": ".py",
   "mimetype": "text/x-python",
   "name": "python",
   "nbconvert_exporter": "python",
   "pygments_lexer": "ipython3",
   "version": "3.7.6"
  }
 },
 "nbformat": 4,
 "nbformat_minor": 4
}
