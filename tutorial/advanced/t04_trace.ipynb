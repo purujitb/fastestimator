{
 "cells": [
  {
   "cell_type": "markdown",
   "metadata": {},
   "source": [
    "# Advanced Tutorial 4: Trace\n",
    "\n",
    "## Overview\n",
    "In this tutorial, we will discuss:\n",
    "* [Customizing Traces](#ta04customize)\n",
    "    * [Example](#ta04example)\n",
    "* [More About Traces](#ta04more)\n",
    "    * [Inputs, Outputs, and Mode](#ta04iom)\n",
    "    * [Data](#ta04data)\n",
    "    * [System](#ta04system)\n",
    "* [Trace Communication](#ta04communication)\n",
    "* [Other Trace Usages](#ta04other)\n",
    "    * [Debugging/Monitoring](#ta04debug)\n",
    "* [Related Apphub Examples](#ta04apphub)"
   ]
  },
  {
   "cell_type": "markdown",
   "metadata": {},
   "source": [
    "Let's create a function to generate a pipeline, model and network to be used for the tutorial:"
   ]
  },
  {
   "cell_type": "code",
   "execution_count": 1,
   "metadata": {},
   "outputs": [],
   "source": [
    "import fastestimator as fe\n",
    "from fastestimator.architecture.tensorflow import LeNet\n",
    "from fastestimator.dataset.data import mnist\n",
    "from fastestimator.op.numpyop.univariate import ExpandDims, Minmax\n",
    "from fastestimator.op.tensorop.loss import CrossEntropy\n",
    "from fastestimator.op.tensorop.model import ModelOp, UpdateOp\n",
    "\n",
    "\n",
    "def get_pipeline_model_network(model_name=\"LeNet\", batch_size=32):\n",
    "    train_data, eval_data = mnist.load_data()\n",
    "    test_data = eval_data.split(0.5)\n",
    "    \n",
    "    pipeline = fe.Pipeline(train_data=train_data,\n",
    "                           eval_data=eval_data,\n",
    "                           test_data=test_data,\n",
    "                           batch_size=batch_size,\n",
    "                           ops=[ExpandDims(inputs=\"x\", outputs=\"x\"), \n",
    "                                Minmax(inputs=\"x\", outputs=\"x\")])\n",
    "\n",
    "    model = fe.build(model_fn=LeNet, optimizer_fn=\"adam\", model_name=model_name)\n",
    "\n",
    "    network = fe.Network(ops=[\n",
    "        ModelOp(model=model, inputs=\"x\", outputs=\"y_pred\"),\n",
    "        CrossEntropy(inputs=(\"y_pred\", \"y\"), outputs=\"ce\"),\n",
    "        UpdateOp(model=model, loss_name=\"ce\")\n",
    "    ])\n",
    "\n",
    "    return pipeline, model, network"
   ]
  },
  {
   "cell_type": "markdown",
   "metadata": {},
   "source": [
    "<a id='ta04customize'></a>"
   ]
  },
  {
   "cell_type": "markdown",
   "metadata": {},
   "source": [
    "## Customizing Traces\n",
    "In [Beginner Tutorial 7](../beginner/t07_estimator.ipynb), we talked about the basic concept and structure of `Traces` and used a few `Traces` provided by FastEstimator. We can also customize a Trace to suit our needs. Let's look at an example of a custom trace implementation:"
   ]
  },
  {
   "cell_type": "markdown",
   "metadata": {},
   "source": [
    "<a id='ta04example'></a>"
   ]
  },
  {
   "cell_type": "markdown",
   "metadata": {},
   "source": [
    "### Example\n",
    "We can utilize traces to calculate any custom metric needed for monitoring or controlling training. Below, we implement a trace for calculating the F-beta score of our model."
   ]
  },
  {
   "cell_type": "code",
   "execution_count": 2,
   "metadata": {},
   "outputs": [],
   "source": [
    "from fastestimator.util import to_number\n",
    "from fastestimator.trace import Trace\n",
    "from sklearn.metrics import fbeta_score\n",
    "import numpy as np\n",
    "\n",
    "class FBetaScore(Trace):\n",
    "    def __init__(self, true_key, pred_key, beta=2, output_name=\"f_beta_score\", mode=[\"eval\", \"test\"]):\n",
    "        super().__init__(inputs=(true_key, pred_key), outputs=output_name, mode=mode)\n",
    "        self.true_key = true_key\n",
    "        self.pred_key = pred_key\n",
    "        self.beta = beta\n",
    "        self.y_true = []\n",
    "        self.y_pred = []\n",
    "        \n",
    "    def on_epoch_begin(self, data):\n",
    "        self.y_true = []\n",
    "        self.y_pred = []\n",
    "        \n",
    "    def on_batch_end(self, data):\n",
    "        y_true, y_pred = to_number(data[self.true_key]), to_number(data[self.pred_key])\n",
    "        y_pred = np.argmax(y_pred, axis=-1)\n",
    "        self.y_pred.extend(y_pred.ravel())\n",
    "        self.y_true.extend(y_true.ravel())\n",
    "        \n",
    "    def on_epoch_end(self, data):\n",
    "        score = fbeta_score(self.y_true, self.y_pred, beta=self.beta, average=\"weighted\")\n",
    "        data.write_with_log(self.outputs[0], score)"
   ]
  },
  {
   "cell_type": "markdown",
   "metadata": {},
   "source": [
    "Now let's calculate the f2-score using our custom `Trace`. f2-score gives more importance to recall."
   ]
  },
  {
   "cell_type": "code",
   "execution_count": 3,
   "metadata": {},
   "outputs": [
    {
     "name": "stdout",
     "output_type": "stream",
     "text": [
      "    ______           __  ______     __  _                 __            \n",
      "   / ____/___ ______/ /_/ ____/____/ /_(_)___ ___  ____ _/ /_____  _____\n",
      "  / /_  / __ `/ ___/ __/ __/ / ___/ __/ / __ `__ \\/ __ `/ __/ __ \\/ ___/\n",
      " / __/ / /_/ (__  ) /_/ /___(__  ) /_/ / / / / / / /_/ / /_/ /_/ / /    \n",
      "/_/    \\__,_/____/\\__/_____/____/\\__/_/_/ /_/ /_/\\__,_/\\__/\\____/_/     \n",
      "                                                                        \n",
      "\n",
      "FastEstimator-Warn: No ModelSaver Trace detected. Models will not be saved.\n",
      "FastEstimator-Start: step: 1; num_device: 1; logging_interval: 1000; \n",
      "FastEstimator-Train: step: 1; ce: 2.3083596; \n",
      "FastEstimator-Train: step: 1000; ce: 0.16284753; steps/sec: 656.26; \n",
      "FastEstimator-Train: step: 1875; epoch: 1; epoch_time: 3.55 sec; \n",
      "FastEstimator-Eval: step: 1875; epoch: 1; ce: 0.035797507; f2_score: 0.9885909522565743; \n",
      "FastEstimator-Train: step: 2000; ce: 0.020546585; steps/sec: 615.78; \n",
      "FastEstimator-Train: step: 3000; ce: 0.0059753414; steps/sec: 713.25; \n",
      "FastEstimator-Train: step: 3750; epoch: 2; epoch_time: 2.69 sec; \n",
      "FastEstimator-Eval: step: 3750; epoch: 2; ce: 0.03689827; f2_score: 0.9877924021686296; \n",
      "FastEstimator-Train: step: 4000; ce: 0.02098944; steps/sec: 680.01; \n",
      "FastEstimator-Train: step: 5000; ce: 0.22268356; steps/sec: 741.56; \n",
      "FastEstimator-Train: step: 5625; epoch: 3; epoch_time: 2.65 sec; \n",
      "FastEstimator-Eval: step: 5625; epoch: 3; ce: 0.032033153; f2_score: 0.9901934586365465; \n",
      "FastEstimator-Train: step: 6000; ce: 0.0055854702; steps/sec: 677.84; \n",
      "FastEstimator-Train: step: 7000; ce: 0.0013257915; steps/sec: 679.31; \n",
      "FastEstimator-Train: step: 7500; epoch: 4; epoch_time: 2.8 sec; \n",
      "FastEstimator-Eval: step: 7500; epoch: 4; ce: 0.029642625; f2_score: 0.9913968204671144; \n",
      "FastEstimator-Finish: step: 7500; total_time: 17.99 sec; LeNet_lr: 0.001; \n"
     ]
    }
   ],
   "source": [
    "pipeline, model, network = get_pipeline_model_network()\n",
    "\n",
    "traces = FBetaScore(true_key=\"y\", pred_key=\"y_pred\", beta=2, output_name=\"f2_score\", mode=\"eval\")\n",
    "estimator = fe.Estimator(pipeline=pipeline, network=network, epochs=4, traces=traces, log_steps=1000)\n",
    "\n",
    "estimator.fit()"
   ]
  },
  {
   "cell_type": "markdown",
   "metadata": {},
   "source": [
    "<a id='ta04more'></a>"
   ]
  },
  {
   "cell_type": "markdown",
   "metadata": {},
   "source": [
    "## More About Traces\n",
    "As we have now seen a custom Trace implementaion, let's delve deeper into the structure of `Traces`."
   ]
  },
  {
   "cell_type": "markdown",
   "metadata": {},
   "source": [
    "<a id='ta04iom'></a>"
   ]
  },
  {
   "cell_type": "markdown",
   "metadata": {},
   "source": [
    "### Inputs, Outputs, and Mode\n",
    "These Trace arguments are similar to the Operator. To recap, the keys from the data dictionary which are required by the Trace can be specified using the `inputs` argument. The `outputs` argument is used to specify the keys which the Trace wants to write into the system buffer. Unlike with Ops, the Trace `inputs` and `outputs` are essentially on an honor system. FastEstimator will not check whether a Trace is really only reading values listed in its `inputs` and writing values listed in its `outputs`. If you are developing a new `Trace` and want your code to work well with the features provided by FastEstimator, it is important to use these fields correctly. The `mode` argument is used to specify the mode(s) for trace execution as with `Ops`. "
   ]
  },
  {
   "cell_type": "markdown",
   "metadata": {},
   "source": [
    "<a id='ta04data'></a>"
   ]
  },
  {
   "cell_type": "markdown",
   "metadata": {},
   "source": [
    "### Data\n",
    "Through its data argument, Trace has access to the current data dictionary. You can use any keys which the Trace declared as its `inputs` to access information from the data dictionary. You can write the outputs into the `Data` dictionary with or without logging using the `write_with_log` and `write_without_log` methods respectively."
   ]
  },
  {
   "cell_type": "markdown",
   "metadata": {},
   "source": [
    "<a id='ta04system'></a>"
   ]
  },
  {
   "cell_type": "markdown",
   "metadata": {},
   "source": [
    "### System\n",
    "\n",
    "Traces have access to the current `System` instance which has information about the `Network` and training process. The information contained in `System` is listed below:\n",
    "* global_step\n",
    "* num_devices\n",
    "* log_steps\n",
    "* total_epochs\n",
    "* epoch_idx\n",
    "* batch_idx\n",
    "* stop_training\n",
    "* network\n",
    "* max_train_steps_per_epoch\n",
    "* max_eval_steps_per_epoch\n",
    "* summary\n",
    "* experiment_time\n",
    "\n",
    "We will showcase `System` usage in the [other trace usages](#ta04other) section of this tutorial. "
   ]
  },
  {
   "cell_type": "markdown",
   "metadata": {},
   "source": [
    "<a id='ta04communication'></a>"
   ]
  },
  {
   "cell_type": "markdown",
   "metadata": {},
   "source": [
    "## Trace Communication\n",
    "We can have multiple traces in a network where the output of one trace is utilized as an input for another, as depicted below: "
   ]
  },
  {
   "cell_type": "markdown",
   "metadata": {},
   "source": [
    "<img src=\"../resources/t04_advanced_trace_communication.png\" alt=\"drawing\" width=\"500\"/>"
   ]
  },
  {
   "cell_type": "markdown",
   "metadata": {},
   "source": [
    "Let's see an example where we utilize the outputs of the `Precision` and `Recall` `Traces` to generate f1-score:"
   ]
  },
  {
   "cell_type": "code",
   "execution_count": 4,
   "metadata": {},
   "outputs": [],
   "source": [
    "from fastestimator.trace.metric import Precision, Recall\n",
    "\n",
    "class CustomF1Score(Trace):\n",
    "    def __init__(self, precision_key, recall_key, mode=[\"eval\", \"test\"], output_name=\"f1_score\"):\n",
    "        super().__init__(inputs=(precision_key, recall_key), outputs=output_name, mode=mode)\n",
    "        self.precision_key = precision_key\n",
    "        self.recall_key = recall_key\n",
    "        \n",
    "    def on_epoch_end(self, data):\n",
    "        precision = data[self.precision_key]\n",
    "        recall = data[self.recall_key]\n",
    "        score = 2*(precision*recall)/(precision+recall)\n",
    "        data.write_with_log(self.outputs[0], score)\n",
    "        \n",
    "\n",
    "pipeline, model, network = get_pipeline_model_network()\n",
    "\n",
    "traces = [\n",
    "    Precision(true_key=\"y\", pred_key=\"y_pred\", mode=[\"eval\", \"test\"], output_name=\"precision\"),\n",
    "    Recall(true_key=\"y\", pred_key=\"y_pred\", mode=[\"eval\", \"test\"], output_name=\"recall\"),\n",
    "    CustomF1Score(precision_key=\"precision\", recall_key=\"recall\", mode=[\"eval\", \"test\"], output_name=\"f1_score\")\n",
    "]\n",
    "estimator = fe.Estimator(pipeline=pipeline, network=network, epochs=2, traces=traces, log_steps=1000)"
   ]
  },
  {
   "cell_type": "code",
   "execution_count": 5,
   "metadata": {},
   "outputs": [
    {
     "name": "stdout",
     "output_type": "stream",
     "text": [
      "    ______           __  ______     __  _                 __            \n",
      "   / ____/___ ______/ /_/ ____/____/ /_(_)___ ___  ____ _/ /_____  _____\n",
      "  / /_  / __ `/ ___/ __/ __/ / ___/ __/ / __ `__ \\/ __ `/ __/ __ \\/ ___/\n",
      " / __/ / /_/ (__  ) /_/ /___(__  ) /_/ / / / / / / /_/ / /_/ /_/ / /    \n",
      "/_/    \\__,_/____/\\__/_____/____/\\__/_/_/ /_/ /_/\\__,_/\\__/\\____/_/     \n",
      "                                                                        \n",
      "\n",
      "FastEstimator-Warn: No ModelSaver Trace detected. Models will not be saved.\n",
      "FastEstimator-Start: step: 1; num_device: 1; logging_interval: 1000; \n",
      "FastEstimator-Train: step: 1; ce: 2.305337; \n",
      "FastEstimator-Train: step: 1000; ce: 0.024452677; steps/sec: 734.32; \n",
      "FastEstimator-Train: step: 1875; epoch: 1; epoch_time: 2.76 sec; \n",
      "FastEstimator-Eval: step: 1875; epoch: 1; ce: 0.0569705; \n",
      "precision:\n",
      "[0.97585513,0.98211091,0.9752381 ,0.98080614,0.99562363,0.96210526,\n",
      " 1.        ,0.98137803,1.        ,0.97504798];\n",
      "recall:\n",
      "[0.99589322,1.        ,0.99224806,0.99223301,0.98484848,0.9827957 ,\n",
      " 0.95850622,0.98137803,0.95503212,0.97692308];\n",
      "f1_score:\n",
      "[0.98577236,0.99097473,0.98366955,0.98648649,0.99020675,0.97234043,\n",
      " 0.97881356,0.98137803,0.9769989 ,0.97598463];\n",
      "FastEstimator-Train: step: 2000; ce: 0.0021102745; steps/sec: 674.01; \n",
      "FastEstimator-Train: step: 3000; ce: 0.0089770565; steps/sec: 688.42; \n",
      "FastEstimator-Train: step: 3750; epoch: 2; epoch_time: 2.8 sec; \n",
      "FastEstimator-Eval: step: 3750; epoch: 2; ce: 0.034781747; \n",
      "precision:\n",
      "[0.98780488,0.99097473,0.98843931,0.98841699,0.99349241,0.98908297,\n",
      " 0.99375   ,0.9905303 ,0.97468354,0.98449612];\n",
      "recall:\n",
      "[0.99794661,1.        ,0.99418605,0.99417476,0.99134199,0.97419355,\n",
      " 0.98962656,0.97392924,0.98929336,0.97692308];\n",
      "f1_score:\n",
      "[0.99284985,0.99546691,0.99130435,0.99128751,0.99241603,0.9815818 ,\n",
      " 0.99168399,0.98215962,0.98193411,0.98069498];\n",
      "FastEstimator-Finish: step: 3750; total_time: 8.76 sec; LeNet_lr: 0.001; \n"
     ]
    }
   ],
   "source": [
    "estimator.fit()"
   ]
  },
  {
   "cell_type": "markdown",
   "metadata": {},
   "source": [
    "`Note:` precision, recall, and f1-score are displayed for each class"
   ]
  },
  {
   "cell_type": "markdown",
   "metadata": {},
   "source": [
    "<a id='ta04other'></a>"
   ]
  },
  {
   "cell_type": "markdown",
   "metadata": {},
   "source": [
    "## Other Trace Usages "
   ]
  },
  {
   "cell_type": "markdown",
   "metadata": {},
   "source": [
    "<a id='ta04debug'></a>"
   ]
  },
  {
   "cell_type": "markdown",
   "metadata": {},
   "source": [
    "### Debugging/Monitoring\n",
    "Lets implement a custom trace to monitor a model's predictions. Using this, any discrepancy from the expected behavior can be checked and the relevant corrections can be made: "
   ]
  },
  {
   "cell_type": "code",
   "execution_count": 6,
   "metadata": {},
   "outputs": [],
   "source": [
    "class MonitorPred(Trace):\n",
    "    def __init__(self, true_key, pred_key, mode=\"train\"):\n",
    "        super().__init__(inputs=(true_key, pred_key), mode=mode)\n",
    "        self.true_key = true_key\n",
    "        self.pred_key = pred_key\n",
    "        \n",
    "    def on_batch_end(self, data):\n",
    "        print(\"Global Step Index: \", self.system.global_step)\n",
    "        print(\"Batch Index: \", self.system.batch_idx)\n",
    "        print(\"Epoch: \", self.system.epoch_idx)\n",
    "        print(\"Batch data has following keys: \", list(data.keys()))\n",
    "        print(\"Batch true labels: \", data[self.true_key])\n",
    "        print(\"Batch predictictions: \", data[self.pred_key])\n",
    "\n",
    "pipeline, model, network = get_pipeline_model_network(batch_size=4)\n",
    "\n",
    "traces = MonitorPred(true_key=\"y\", pred_key=\"y_pred\")\n",
    "estimator = fe.Estimator(pipeline=pipeline, network=network, epochs=2, traces=traces, max_train_steps_per_epoch=2, log_steps=None)"
   ]
  },
  {
   "cell_type": "code",
   "execution_count": 7,
   "metadata": {},
   "outputs": [
    {
     "name": "stdout",
     "output_type": "stream",
     "text": [
      "    ______           __  ______     __  _                 __            \n",
      "   / ____/___ ______/ /_/ ____/____/ /_(_)___ ___  ____ _/ /_____  _____\n",
      "  / /_  / __ `/ ___/ __/ __/ / ___/ __/ / __ `__ \\/ __ `/ __/ __ \\/ ___/\n",
      " / __/ / /_/ (__  ) /_/ /___(__  ) /_/ / / / / / / /_/ / /_/ /_/ / /    \n",
      "/_/    \\__,_/____/\\__/_____/____/\\__/_/_/ /_/ /_/\\__,_/\\__/\\____/_/     \n",
      "                                                                        \n",
      "\n",
      "FastEstimator-Warn: No ModelSaver Trace detected. Models will not be saved.\n",
      "Global Step Index:  1\n",
      "Batch Index:  1\n",
      "Epoch:  1\n",
      "Batch data has following keys:  ['y', 'ce', 'x', 'y_pred']\n",
      "Batch true labels:  [1 5 8 5]\n",
      "Batch predictictions:  [[0.09878654 0.11280762 0.10882236 0.0953772  0.09711165 0.09277759\n",
      "  0.09783419 0.09401798 0.10111833 0.10134653]\n",
      " [0.10425894 0.11605782 0.11004242 0.09267453 0.08793817 0.09537386\n",
      "  0.10757758 0.08135056 0.09903805 0.10568804]\n",
      " [0.1016297  0.11371672 0.10940187 0.09458858 0.09116017 0.09185343\n",
      "  0.10174091 0.08704273 0.10234813 0.10651773]\n",
      " [0.10281158 0.10875763 0.10668261 0.08935054 0.09368025 0.10163527\n",
      "  0.10554942 0.08158974 0.09799404 0.11194893]]\n",
      "Global Step Index:  2\n",
      "Batch Index:  2\n",
      "Epoch:  1\n",
      "Batch data has following keys:  ['y', 'ce', 'x', 'y_pred']\n",
      "Batch true labels:  [9 7 0 9]\n",
      "Batch predictictions:  [[0.10153595 0.11117928 0.10700106 0.09030598 0.09056976 0.10074646\n",
      "  0.10491277 0.08370153 0.10058438 0.10946291]\n",
      " [0.09943405 0.11675353 0.10615741 0.09357058 0.09498165 0.09680846\n",
      "  0.09997059 0.08461777 0.09770196 0.11000396]\n",
      " [0.10712261 0.11406822 0.10380837 0.09336544 0.08995877 0.09921383\n",
      "  0.10175668 0.08751085 0.09903854 0.10415668]\n",
      " [0.10325367 0.10959569 0.10525871 0.08968467 0.09167413 0.10499243\n",
      "  0.10512233 0.08271552 0.09867672 0.10902614]]\n",
      "Global Step Index:  3\n",
      "Batch Index:  1\n",
      "Epoch:  2\n",
      "Batch data has following keys:  ['y', 'ce', 'x', 'y_pred']\n",
      "Batch true labels:  [4 9 5 0]\n",
      "Batch predictictions:  [[0.10507825 0.10794099 0.10248892 0.08767187 0.08906174 0.10877317\n",
      "  0.10675651 0.08316758 0.09733932 0.11172164]\n",
      " [0.10452065 0.10935836 0.10143676 0.08643056 0.08772491 0.11231022\n",
      "  0.10028692 0.08151487 0.09872114 0.11769552]\n",
      " [0.10281294 0.11222194 0.1011567  0.08917599 0.093499   0.10987655\n",
      "  0.10295148 0.08328241 0.09753096 0.10749206]\n",
      " [0.11502377 0.10897078 0.10094845 0.08484171 0.08951931 0.10733136\n",
      "  0.09949591 0.08294778 0.09814924 0.11277179]]\n",
      "Global Step Index:  4\n",
      "Batch Index:  2\n",
      "Epoch:  2\n",
      "Batch data has following keys:  ['y', 'ce', 'x', 'y_pred']\n",
      "Batch true labels:  [2 9 5 9]\n",
      "Batch predictictions:  [[0.10447924 0.11029453 0.09903328 0.08642756 0.09253392 0.11049397\n",
      "  0.10054693 0.08330047 0.09570859 0.11718156]\n",
      " [0.10390399 0.11127824 0.10138535 0.08615676 0.09266223 0.11076459\n",
      "  0.10240171 0.08131735 0.09794777 0.11218196]\n",
      " [0.10628477 0.10850214 0.09937814 0.08383881 0.0902461  0.11622549\n",
      "  0.103737   0.07806063 0.09677587 0.11695106]\n",
      " [0.10669366 0.10886899 0.09865166 0.08427355 0.0894412  0.117375\n",
      "  0.10394516 0.07848874 0.09449891 0.11776313]]\n"
     ]
    }
   ],
   "source": [
    "estimator.fit()"
   ]
  },
  {
   "cell_type": "markdown",
   "metadata": {},
   "source": [
    "As you can see, we can visualize information like the global step, batch number, epoch, keys in the data dictionary, true labels, and predictions at batch level using our `Trace`."
   ]
  },
  {
   "cell_type": "markdown",
   "metadata": {},
   "source": [
    "<a id='ta04apphub'></a>"
   ]
  },
  {
   "cell_type": "markdown",
   "metadata": {},
   "source": [
    "## Apphub Examples\n",
    "You can find some practical examples of the concepts described here in the following FastEstimator Apphubs:\n",
    "\n",
    "* [CIFAR10](../../apphub/image_classification/cifar10_fast/cifar10_fast.ipynb)"
   ]
  }
 ],
 "metadata": {
  "kernelspec": {
   "display_name": "Python 3",
   "language": "python",
   "name": "python3"
  },
  "language_info": {
   "codemirror_mode": {
    "name": "ipython",
    "version": 3
   },
   "file_extension": ".py",
   "mimetype": "text/x-python",
   "name": "python",
   "nbconvert_exporter": "python",
   "pygments_lexer": "ipython3",
   "version": "3.6.12"
  }
 },
 "nbformat": 4,
 "nbformat_minor": 4
}
