{
 "cells": [
  {
   "cell_type": "markdown",
   "metadata": {},
   "source": [
    "# Creating a FastEstimator dataset"
   ]
  },
  {
   "cell_type": "markdown",
   "metadata": {},
   "source": [
    "## Creating simple datasets"
   ]
  },
  {
   "cell_type": "markdown",
   "metadata": {},
   "source": [
    "The FastEstimator Dataset class took the inspiration from the PyTorch Dataset class which provides a clean and efficient interface. For a detailed tutorial on PyTorch implementation you can go to \n",
    "https://pytorch.org/tutorials/beginner/data_loading_tutorial.html\n",
    "\n",
    "The two key functionalities that we need to provide for the Dataset class are the ability to get an individual data entry from the Dataset and the ability to get the length of the Dataset. This should be done as follows:\n",
    "* len(dataset) should return the size of the dataset.\n",
    "* dataset[i] should return the ith sample in the dataset."
   ]
  },
  {
   "cell_type": "markdown",
   "metadata": {},
   "source": [
    "## FastEstimator Dataset"
   ]
  },
  {
   "cell_type": "markdown",
   "metadata": {},
   "source": [
    "In this section we will showcase how a Dataset can be created using FastEstimator. There are two ways you can create a Dataset in FastEstimator. One is using data from disk and another is using data from memory."
   ]
  },
  {
   "cell_type": "markdown",
   "metadata": {},
   "source": [
    "### 1. Creating Dataset from disk"
   ]
  },
  {
   "cell_type": "markdown",
   "metadata": {},
   "source": [
    "To create a Dataset from disk, you can either use a Labeled directory structure or read a CSV file on the disk"
   ]
  },
  {
   "cell_type": "markdown",
   "metadata": {},
   "source": [
    "#### 1.1 Creating Dataset from Labeled directory structure"
   ]
  },
  {
   "cell_type": "markdown",
   "metadata": {},
   "source": [
    "To showcase this we will first have to create a dummy directory structure representing the two classes. Then we create a few files in each of the directories. Once that is done you can create a Dataset by passing the dummy directory to the LabeledDirDataset class constructor. The following code snippet shows how this can easily be done:"
   ]
  },
  {
   "cell_type": "code",
   "execution_count": 47,
   "metadata": {},
   "outputs": [
    {
     "name": "stdout",
     "output_type": "stream",
     "text": [
      "{'x': '/tmp/tmpfhlul0vt/tmpcouwp4q9/b1.txt', 'y': 0}\n",
      "4\n"
     ]
    }
   ],
   "source": [
    "import os\n",
    "import tempfile\n",
    "\n",
    "import fastestimator as fe\n",
    "\n",
    "with tempfile.TemporaryDirectory() as tmpdirname:\n",
    "    a_tmpdirname = tempfile.TemporaryDirectory(dir=tmpdirname)\n",
    "    b_tmpdirname = tempfile.TemporaryDirectory(dir=tmpdirname)\n",
    "    \n",
    "    a1 = open(os.path.join(a_tmpdirname.name, \"a1.txt\"), \"x\")\n",
    "    a2 = open(os.path.join(a_tmpdirname.name, \"a2.txt\"), \"x\")\n",
    "    \n",
    "    b1 = open(os.path.join(b_tmpdirname.name, \"b1.txt\"), \"x\")\n",
    "    b2 = open(os.path.join(b_tmpdirname.name, \"b2.txt\"), \"x\")\n",
    "    \n",
    "    dataset = fe.dataset.LabeledDirDataset(root_dir=tmpdirname)\n",
    "    \n",
    "    print (dataset[0])\n",
    "    print (len(dataset))\n",
    "    \n",
    "    a_tmpdirname.cleanup()\n",
    "    b_tmpdirname.cleanup()"
   ]
  },
  {
   "cell_type": "markdown",
   "metadata": {},
   "source": [
    "#### 1.2 Creating Dataset from CSV"
   ]
  },
  {
   "cell_type": "markdown",
   "metadata": {},
   "source": [
    "To showcase creating Dataset from CSV we now create a dummy CSV file representing information for the two classes. Once that is done you can create a Dataset by passing the CSV to the CSVDataset class constructor. The following code snippet shows how this can be done:"
   ]
  },
  {
   "cell_type": "code",
   "execution_count": 48,
   "metadata": {},
   "outputs": [
    {
     "name": "stdout",
     "output_type": "stream",
     "text": [
      "{'x': 'a1.txt', 'y': 0}\n",
      "4\n"
     ]
    }
   ],
   "source": [
    "import os\n",
    "import tempfile\n",
    "import pandas as pd\n",
    "\n",
    "import fastestimator as fe\n",
    "\n",
    "with tempfile.TemporaryDirectory() as tmpdirname:\n",
    "    data = {'x': ['a1.txt', 'a2.txt', 'b1.txt', 'b2.txt'], 'y': [0, 0, 1, 1]}\n",
    "    df = pd.DataFrame(data=data)\n",
    "    df.to_csv(os.path.join(tmpdirname, 'data.csv'), index=False)\n",
    "\n",
    "    dataset = fe.dataset.CSVDataset(file_path=os.path.join(tmpdirname, 'data.csv'))\n",
    "\n",
    "    print (dataset[0])\n",
    "    print (len(dataset))"
   ]
  },
  {
   "cell_type": "markdown",
   "metadata": {},
   "source": [
    "### 2. Creating Dataset from memory"
   ]
  },
  {
   "cell_type": "markdown",
   "metadata": {},
   "source": [
    "To create a Dataset from memory, you use the NumpyDataset class passing it the data dictionary. The following code snippet shows how this can be done:"
   ]
  },
  {
   "cell_type": "code",
   "execution_count": 49,
   "metadata": {},
   "outputs": [
    {
     "name": "stdout",
     "output_type": "stream",
     "text": [
      "5\n",
      "60000\n"
     ]
    }
   ],
   "source": [
    "import numpy as np\n",
    "import tensorflow as tf\n",
    "\n",
    "import fastestimator as fe\n",
    "\n",
    "(x_train, y_train), (x_eval, y_eval) = tf.keras.datasets.mnist.load_data()\n",
    "train_data = fe.dataset.NumpyDataset({\"x\": x_train, \"y\": y_train})\n",
    "eval_data = fe.dataset.NumpyDataset({\"x\": x_eval, \"y\": y_eval})\n",
    "\n",
    "print (train_data[0]['y'])\n",
    "print (len(train_data))"
   ]
  },
  {
   "cell_type": "code",
   "execution_count": null,
   "metadata": {},
   "outputs": [],
   "source": []
  }
 ],
 "metadata": {
  "kernelspec": {
   "display_name": "Python 3.6.9 64-bit ('venv': venv)",
   "language": "python",
   "name": "python36964bitvenvvenv2f4b8d032e41422d9204c9b0dc473283"
  },
  "language_info": {
   "codemirror_mode": {
    "name": "ipython",
    "version": 3
   },
   "file_extension": ".py",
   "mimetype": "text/x-python",
   "name": "python",
   "nbconvert_exporter": "python",
   "pygments_lexer": "ipython3",
   "version": "3.6.9"
  }
 },
 "nbformat": 4,
 "nbformat_minor": 4
}
