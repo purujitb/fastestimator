{
 "cells": [
  {
   "cell_type": "markdown",
   "metadata": {},
   "source": [
    "# Tutorial 3: Operator\n",
    "\n",
    "## Overview\n",
    "In this tutorial we will talk about the following:\n",
    "* **operator concept**\n",
    "* **operator structure**\n",
    "* **operator expression**\n",
    "* **deep learning examples using operators**"
   ]
  },
  {
   "cell_type": "markdown",
   "metadata": {},
   "source": [
    "## Operator Concept\n",
    "\n",
    "In [tutorial 1](link_need), we know that the preprocessing in `Pipeline` and the training in `Network` can be divided into several sub-tasks:\n",
    "\n",
    "* **Pipeline**: `Expand_dim` -> `Minmax`\n",
    "* **Network**: `ModelOp` -> `CrossEntropy` -> `UpdateOp`\n",
    "\n",
    "Each sub-task is a modular unit that takes inputs, performs an operation then produces outputs. As a result, we call them `Operator`, it is building block of `Pipeline` and `Network` API."
   ]
  },
  {
   "cell_type": "markdown",
   "metadata": {},
   "source": [
    "## Operator Structure\n",
    "\n",
    "An Operator has 3 main components: \n",
    "* **inputs**: the key(s) of input data\n",
    "* **outputs**: the key(s) of output data\n",
    "* **forward function**: the transformation \n",
    "\n",
    "Implementation-wise, `Operator` is implemented as python class. Ignore `mode` for now as we will talk about `mode` extensively in [tutorial 9](link needed)."
   ]
  },
  {
   "cell_type": "code",
   "execution_count": 1,
   "metadata": {},
   "outputs": [],
   "source": [
    "class Op:\n",
    "    def __init__(self, inputs=None, outputs=None, mode=None):\n",
    "        self.inputs = inputs\n",
    "        self.outputs = outputs\n",
    "        self.mode = mode\n",
    "    \n",
    "    def forward(self, data, state):\n",
    "        return data"
   ]
  },
  {
   "cell_type": "markdown",
   "metadata": {},
   "source": [
    "## Operator Expression\n",
    "\n",
    "In this section, we will demonstrate how different tasks can be concisely expressed in operators. \n",
    "\n",
    "### Single Operator\n",
    "If the task only requires taking one feature then transform and overwrite the feature (e.g, `Minmax`), it can be expressed as:\n",
    "<img src=\"../image/t03_op_single1.png\" alt=\"drawing\" width=\"500\"/>\n",
    "\n",
    "If the task involves taking multiple features then overwrite them respectively (e.g, rotation of both image & mask), it can be expressed as:\n",
    "<img src=\"../image/t03_op_single2.png\" alt=\"drawing\" width=\"500\"/>\n",
    "\n",
    "### Multiple Operators\n",
    "If there are two operators executing in sequential manner (e.g, `Minmax` followed by `Transpose`), it can be expressed as:\n",
    "<img src=\"../image/t03_op_multi1.png\" alt=\"drawing\" width=\"500\"/>\n",
    "\n",
    "Operator can easily handle more complicated data flows:\n",
    "<img src=\"../image/t03_op_multi2.png\" alt=\"drawing\" width=\"500\"/>\n",
    "\n",
    "<img src=\"../image/t03_op_multi3.png\" alt=\"drawing\" width=\"500\"/>\n"
   ]
  },
  {
   "cell_type": "markdown",
   "metadata": {},
   "source": [
    "## Deep learning with operator\n",
    "In this section, we will show you how deep learning tasks can be modularized into combination of operators. Please note that the operator expression we provide in this section is simplified as pseudo-code, we will provide link to the actual python code for your reference.\n",
    "\n",
    "### Image Classification:                                                                [source](https://github.com/fastestimator/fastestimator/tree/1.0dev/apphub/image_classification/mnist)\n",
    "\n",
    "<img src=\"../image/t03_op_cls.png\" alt=\"drawing\" width=\"800\"/>\n",
    "\n",
    "### DC-GAN:                                                                                  [source](https://github.com/fastestimator/fastestimator/tree/1.0dev/apphub/image_generation/dcgan)\n",
    "\n",
    "<img src=\"../image/t03_op_dcgan.png\" alt=\"drawing\" width=\"900\"/>\n",
    "\n",
    "### Adversarial Hardening:                                                                                  [source](https://github.com/fastestimator/fastestimator/tree/1.0dev/apphub/adversarial_training/fgsm)\n",
    "\n",
    "<img src=\"../image/t03_op_adversarial.png\" alt=\"drawing\" width=\"900\"/>\n"
   ]
  }
 ],
 "metadata": {
  "kernelspec": {
   "display_name": "Python 3",
   "language": "python",
   "name": "python3"
  },
  "language_info": {
   "codemirror_mode": {
    "name": "ipython",
    "version": 3
   },
   "file_extension": ".py",
   "mimetype": "text/x-python",
   "name": "python",
   "nbconvert_exporter": "python",
   "pygments_lexer": "ipython3",
   "version": "3.6.5"
  }
 },
 "nbformat": 4,
 "nbformat_minor": 2
}
