{
 "cells": [
  {
   "cell_type": "markdown",
   "metadata": {},
   "source": [
    "# Tutorial 3: Operator\n",
    "\n",
    "## Overview\n",
    "In this tutorial we will introduce the `Operator` - a fundamental building block within FastEstimator. This tutorial is structured as follows:\n",
    "\n",
    "* [Operator Definition](#t03Def)\n",
    "* [Operator Structure](#t03Structure)\n",
    "* [Operator Expression](#t03Exp)\n",
    "* [Deep Learning Examples using Operators](#t03DL)"
   ]
  },
  {
   "cell_type": "markdown",
   "metadata": {},
   "source": [
    "<a id='t03Def'></a>"
   ]
  },
  {
   "cell_type": "markdown",
   "metadata": {},
   "source": [
    "## Operator Definition\n",
    "\n",
    "From [Tutorial 1](./t01_getting_started.ipynb), we know that the preprocessing in `Pipeline` and the training in `Network` can be divided into several sub-tasks:\n",
    "\n",
    "* **Pipeline**: `Expand_dim` -> `Minmax`\n",
    "* **Network**: `ModelOp` -> `CrossEntropy` -> `UpdateOp`\n",
    "\n",
    "Each sub-task is a modular unit that takes inputs, performs an operation, and then produces outputs. We therefore call these sub-tasks `Operator`s, and they form the building blocks of the FastEstimator `Pipeline` and `Network` APIs."
   ]
  },
  {
   "cell_type": "markdown",
   "metadata": {},
   "source": [
    "<a id='t03Structure'></a>"
   ]
  },
  {
   "cell_type": "markdown",
   "metadata": {},
   "source": [
    "## Operator Structure\n",
    "\n",
    "An Operator has 3 main components: \n",
    "* **inputs**: the key(s) of input data\n",
    "* **outputs**: the key(s) of output data\n",
    "* **forward function**: the transformation to be applied\n",
    "\n",
    "The base class constructor also takes a `mode` argument, but for now we will ignore it since `mode` will be discussed extensively in [Tutorial 9](./t09_inference.ipynb)."
   ]
  },
  {
   "cell_type": "code",
   "execution_count": 1,
   "metadata": {},
   "outputs": [],
   "source": [
    "class Op:\n",
    "    def __init__(self, inputs=None, outputs=None, mode=None):\n",
    "        self.inputs = inputs\n",
    "        self.outputs = outputs\n",
    "        self.mode = mode\n",
    "    \n",
    "    def forward(self, data, state):\n",
    "        return data"
   ]
  },
  {
   "cell_type": "markdown",
   "metadata": {},
   "source": [
    "<a id='t03Exp'></a>"
   ]
  },
  {
   "cell_type": "markdown",
   "metadata": {},
   "source": [
    "## Operator Expression\n",
    "\n",
    "In this section, we will demonstrate how different tasks can be concisely expressed in operators. \n",
    "\n",
    "### Single Operator\n",
    "If the task only requires taking one feature as input and transforming it to overwrite the old feature (e.g, `Minmax`), it can be expressed as:\n",
    "\n",
    "<img src=\"../resources/t03_op_single1.png\" alt=\"drawing\" width=\"500\"/>\n",
    "\n",
    "If the task involves taking multiple features and overwriting them respectively (e.g, rotation of both an image and its mask), it can be expressed as:\n",
    "\n",
    "<img src=\"../resources/t03_op_single2.png\" alt=\"drawing\" width=\"500\"/>\n",
    "\n",
    "### Multiple Operators\n",
    "If there are two `Operator`s executing in a sequential manner (e.g, `Minmax` followed by `Transpose`), it can be expressed as:\n",
    "\n",
    "<img src=\"../resources/t03_op_multi1.png\" alt=\"drawing\" width=\"500\"/>\n",
    "\n",
    "`Operator`s can also easily handle more complicated data flows:\n",
    "\n",
    "<img src=\"../resources/t03_op_multi2.png\" alt=\"drawing\" width=\"500\"/>\n",
    "\n",
    "<img src=\"../resources/t03_op_multi3.png\" alt=\"drawing\" width=\"500\"/>\n"
   ]
  },
  {
   "cell_type": "markdown",
   "metadata": {},
   "source": [
    "<a id='t03DL'></a>"
   ]
  },
  {
   "cell_type": "markdown",
   "metadata": {},
   "source": [
    "## Deep Learning Examples using Operators\n",
    "\n",
    "In this section, we will show you how deep learning tasks can be modularized into combinations of `Operator`s. Please note that the `Operator` expressions we provide in this section are essentially pseudo-code. Links to full python examples are also provided.\n",
    "\n",
    "### Image Classification:                                                                \n",
    "[MNIST](../../apphub/image_classification/mnist/mnist.ipynb)\n",
    "\n",
    "<img src=\"../resources/t03_op_cls.png\" alt=\"drawing\" width=\"800\"/>\n",
    "\n",
    "### DC-GAN:                                                                                  \n",
    "[DC-GAN](../../apphub/image_generation/dcgan/dcgan.ipynb)\n",
    "\n",
    "<img src=\"../resources/t03_op_dcgan.png\" alt=\"drawing\" width=\"900\"/>\n",
    "\n",
    "### Adversarial Hardening:                                                                                  \n",
    "[FGSM](../../apphub/adversarial_training/fgsm/fgsm.ipynb)\n",
    "\n",
    "<img src=\"../resources/t03_op_adversarial.png\" alt=\"drawing\" width=\"900\"/>\n"
   ]
  }
 ],
 "metadata": {
  "kernelspec": {
   "display_name": "Python 3",
   "language": "python",
   "name": "python3"
  },
  "language_info": {
   "codemirror_mode": {
    "name": "ipython",
    "version": 3
   },
   "file_extension": ".py",
   "mimetype": "text/x-python",
   "name": "python",
   "nbconvert_exporter": "python",
   "pygments_lexer": "ipython3",
   "version": "3.6.12"
  }
 },
 "nbformat": 4,
 "nbformat_minor": 4
}
