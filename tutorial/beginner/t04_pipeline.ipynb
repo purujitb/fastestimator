{
 "cells": [
  {
   "cell_type": "markdown",
   "metadata": {},
   "source": [
    "# Tutorial 4: Pipeline\n",
    "\n",
    "## Overview\n",
    "\n",
    "In this tutorial, we will talk about the following:\n",
    "\n",
    "* [Loading data into a `Pipeline`](#t04Loading)\n",
    "    * [Using tf.data.Dataset](#t04tf)\n",
    "    * [Using torch.Dataloader](#t04torch)\n",
    "    * [Using FastEstimator Datasets](#t04fe)\n",
    "* [Getting results from a `Pipeline`](#t04results)\n",
    "* [How to use Numpy Operators in a `Pipeline`](#t04numpy)\n",
    "    * [Univariate Numpy Operators](#t04univariate)\n",
    "    * [Multivariate Numpy Operators](#t04multivariate)\n",
    "    * [Customized Numpy Operators](#t04custom)\n",
    "    * [Visualizing `Pipeline` Output](#t04vis)\n",
    "* [Related Apphub Examples](#t04apphub)\n",
    "\n",
    "In deep learning, data preprocessing is a way of converting data from its raw form to a more usable or desired representation. It is one crucial step in model training as it directly impacts the ability of model to learn. In FastEstimator, the `Pipeline` API enables such preprocessing tasks in an efficient manner. The `Pipeline` manages everything from  extracting data from the disk up until it is fed into the model. `Pipeline` operations usually happen on the CPU."
   ]
  },
  {
   "cell_type": "markdown",
   "metadata": {},
   "source": [
    "<a id='t04Loading'></a>"
   ]
  },
  {
   "cell_type": "markdown",
   "metadata": {},
   "source": [
    "## Loading data into a Pipeline"
   ]
  },
  {
   "cell_type": "markdown",
   "metadata": {},
   "source": [
    "In [Tutorial 2](./t02_dataset.ipynb) we demonstrated different ways to construct FastEstimator datasets. Here we will see how datasets can be loaded in the `Pipeline` and how various operations can then be applied to the data. `fe.Pipeline` handles three different types of datasets:\n",
    "\n",
    "* tf.data.Dataset\n",
    "* torch.data.Dataloader\n",
    "* fe.dataset\n",
    "\n",
    "Let's create an example `tf.data.Dataset` and `torch.data.Dataloader` from numpy arrays and we will load them into a `Pipeline`:"
   ]
  },
  {
   "cell_type": "code",
   "execution_count": 1,
   "metadata": {},
   "outputs": [],
   "source": [
    "import numpy as np\n",
    "\n",
    "# Make some random data to serve as the source for our datasets\n",
    "x_train, y_train = (np.random.sample((100, 2)), np.random.sample((100, 1)))\n",
    "train_data = {\"x\": x_train, \"y\": y_train}"
   ]
  },
  {
   "cell_type": "markdown",
   "metadata": {},
   "source": [
    "<a id='t04tf'></a>"
   ]
  },
  {
   "cell_type": "markdown",
   "metadata": {},
   "source": [
    "### Using tf.data.Dataset"
   ]
  },
  {
   "cell_type": "code",
   "execution_count": 2,
   "metadata": {},
   "outputs": [],
   "source": [
    "import fastestimator as fe\n",
    "import tensorflow as tf\n",
    "\n",
    "# Create a tf.data.Dataset from sample data\n",
    "dataset_tf = tf.data.Dataset.from_tensor_slices(train_data)\n",
    "dataset_tf = dataset_tf.batch(4)\n",
    "\n",
    "# Load data into the pipeline\n",
    "pipeline_tf = fe.Pipeline(dataset_tf)"
   ]
  },
  {
   "cell_type": "markdown",
   "metadata": {},
   "source": [
    "<a id='t04torch'></a>"
   ]
  },
  {
   "cell_type": "markdown",
   "metadata": {},
   "source": [
    "### Using torch.data.Dataloader"
   ]
  },
  {
   "cell_type": "markdown",
   "metadata": {},
   "source": [
    "We will create a custom dataset class to load our train data into a PyTorch DataLoader."
   ]
  },
  {
   "cell_type": "code",
   "execution_count": 3,
   "metadata": {},
   "outputs": [],
   "source": [
    "from torch.utils.data import Dataset\n",
    "\n",
    "class TorchCustomDataset(Dataset):\n",
    "    def __init__(self, data):\n",
    "        super().__init__()\n",
    "        self.data = data\n",
    "    def __len__(self):\n",
    "        return self.data[\"x\"].shape[0]\n",
    "    def __getitem__(self, idx):\n",
    "        return {key: self.data[key][idx] for key in self.data}"
   ]
  },
  {
   "cell_type": "code",
   "execution_count": 4,
   "metadata": {},
   "outputs": [],
   "source": [
    "import torch\n",
    "from torch.utils import data\n",
    "\n",
    "# Create a torch.data.Dataloader from sample data\n",
    "dataset_torch = TorchCustomDataset(train_data)\n",
    "dataloader_torch = data.DataLoader(dataset_torch, batch_size=4)\n",
    "\n",
    "# Load data into the pipeline\n",
    "pipeline_torch = fe.Pipeline(dataloader_torch)"
   ]
  },
  {
   "cell_type": "markdown",
   "metadata": {},
   "source": [
    "<a id='t04fe'></a>"
   ]
  },
  {
   "cell_type": "markdown",
   "metadata": {},
   "source": [
    "### Using a FastEstimator Dataset"
   ]
  },
  {
   "cell_type": "markdown",
   "metadata": {},
   "source": [
    "Next, we will see how to use one of the Fastestimator Datasets in the `Pipeline`. We will create `fe.dataset.NumpyDataset` and load it into our pipeline. As we saw in [Tutorial 2](./t02_dataset.ipynb), `NumpyDataset` takes a dictionary with keys for the <b>input data</b> and <b>ground truth labels</b>."
   ]
  },
  {
   "cell_type": "code",
   "execution_count": 5,
   "metadata": {},
   "outputs": [],
   "source": [
    "from fastestimator.dataset.numpy_dataset import NumpyDataset\n",
    "\n",
    "# Create a NumpyDataset from the sample data\n",
    "dataset_fe = NumpyDataset(train_data)\n",
    "\n",
    "pipeline_fe = fe.Pipeline(train_data=dataset_fe, batch_size=1)"
   ]
  },
  {
   "cell_type": "markdown",
   "metadata": {},
   "source": [
    "<a id='t04results'></a>"
   ]
  },
  {
   "cell_type": "markdown",
   "metadata": {},
   "source": [
    "## Getting results from a Pipeline"
   ]
  },
  {
   "cell_type": "markdown",
   "metadata": {},
   "source": [
    "After loading the data or performing preprocessing tasks, you might want to inspect the data in the `Pipeline` and ensure the output of the `Pipeline` is as you expected. `fe.Pipeline.get_results` provides this feature:"
   ]
  },
  {
   "cell_type": "code",
   "execution_count": 6,
   "metadata": {},
   "outputs": [
    {
     "data": {
      "text/plain": [
       "{'x': <tf.Tensor: shape=(4, 2), dtype=float64, numpy=\n",
       " array([[0.63098872, 0.02492519],\n",
       "        [0.20859418, 0.39825037],\n",
       "        [0.23939722, 0.21990976],\n",
       "        [0.70966992, 0.80645352]])>,\n",
       " 'y': <tf.Tensor: shape=(4, 1), dtype=float64, numpy=\n",
       " array([[0.68909166],\n",
       "        [0.66729607],\n",
       "        [0.27104117],\n",
       "        [0.3786991 ]])>}"
      ]
     },
     "execution_count": 6,
     "metadata": {},
     "output_type": "execute_result"
    }
   ],
   "source": [
    "pipeline_tf.get_results(num_steps=1)"
   ]
  },
  {
   "cell_type": "markdown",
   "metadata": {},
   "source": [
    "<a id='t04numpy'></a>"
   ]
  },
  {
   "cell_type": "markdown",
   "metadata": {},
   "source": [
    "## Using Numpy Operators in Pipeline"
   ]
  },
  {
   "cell_type": "markdown",
   "metadata": {},
   "source": [
    "In [Tutorial 3](./t03_operator.ipynb), we learned about `Operators` and their structure. They are used in FastEstimator for constructing workflow graphs. Here we will talk specifically about Numpy Operators (`NumpyOp`s) and how to use them in `Pipeline`."
   ]
  },
  {
   "cell_type": "markdown",
   "metadata": {},
   "source": [
    "`NumpyOp`s form the foundation of FastEstimator data augmentation within the `Pipeline`, and inherit from the `Op` base class. They perform preprocessing and augmentation tasks on non-Tensor data. With a list of `NumpyOp`s, even complicated preprocessing tasks can be implemented in only a few lines of code. Many of the augmentation operations in FastEstimator leverage the image augmentation library [albumentations](https://github.com/albumentations-team/albumentations).\n",
    "\n",
    "`NumpyOp` can be further subdivided into three main categories:\n",
    "   * Univariate `NumpyOp`s\n",
    "   * Multivariate `NumpyOp`s\n",
    "   * Meta `NumpyOp`s\n",
    "   \n",
    "In addition to the pre-built offerings, we can customize the `NumpyOp` to perform our own operations on the data. By inheriting `fe.op.numpyop` we can create custom `NumpyOp`s and use them in our `Pipeline`. In this tutorial, we will learn about Univariate, Multivariate and Custom Numpy Operators. We will discuss Meta NumpyOp's an [advanced tutorial](../advanced/t03_operator.ipynb).\n",
    "\n",
    "To demonstrate use of operators, we will first load the Fashion MNIST dataset in our Pipeline and then will define list of Numpy Operators for preprocessing data. We will then visualize the `Pipeline`s inputs and outputs."
   ]
  },
  {
   "cell_type": "code",
   "execution_count": 7,
   "metadata": {},
   "outputs": [],
   "source": [
    "from fastestimator.dataset.data import mnist\n",
    "\n",
    "mnist_train, mnist_eval = mnist.load_data()"
   ]
  },
  {
   "cell_type": "markdown",
   "metadata": {},
   "source": [
    "<a id='t04univariate'></a>"
   ]
  },
  {
   "cell_type": "markdown",
   "metadata": {},
   "source": [
    "### Univariate NumpyOp"
   ]
  },
  {
   "cell_type": "markdown",
   "metadata": {},
   "source": [
    "Univariate Numpy Operators perform the same operation for all input features. They take one or more input(s) and return an equal number of outputs, applying the same transformation to each input/output pair. For example, `Minmax` is an univariate Numpy Operator. No matter what feature it is given, it will perform:\n",
    "\n",
    "data = (data - min) / (max - min)"
   ]
  },
  {
   "cell_type": "code",
   "execution_count": 8,
   "metadata": {},
   "outputs": [],
   "source": [
    "from fastestimator.op.numpyop.univariate import Minmax\n",
    "\n",
    "minmax_op = Minmax(inputs=\"x\", outputs=\"x_out\")"
   ]
  },
  {
   "cell_type": "markdown",
   "metadata": {},
   "source": [
    "<a id='t04multivariate'></a>"
   ]
  },
  {
   "cell_type": "markdown",
   "metadata": {},
   "source": [
    "### Multivariate NumpyOp"
   ]
  },
  {
   "cell_type": "markdown",
   "metadata": {},
   "source": [
    "Multivariate Numpy Operators perform different operations based on the nature of the input features. For example, if you have an image with an associated mask as well as bounding boxes, rotating all three of these objects together requires the backend code to know which of the inputs is an image and which is a bounding box. Here we will demonstrate the `Rotate` Numpy Operator which will rotate images randomly by some angle in the range (-60, 60) degrees."
   ]
  },
  {
   "cell_type": "code",
   "execution_count": 9,
   "metadata": {},
   "outputs": [],
   "source": [
    "from fastestimator.op.numpyop.multivariate import Rotate\n",
    "\n",
    "rotation_op = Rotate(image_in=\"x_out\", image_out=\"x_out\", limit=60)"
   ]
  },
  {
   "cell_type": "markdown",
   "metadata": {},
   "source": [
    "<a id='t04custom'></a>"
   ]
  },
  {
   "cell_type": "markdown",
   "metadata": {},
   "source": [
    "### Custom NumpyOp"
   ]
  },
  {
   "cell_type": "markdown",
   "metadata": {},
   "source": [
    "Let's create custom Numpy Operator that adds random noise to the input images."
   ]
  },
  {
   "cell_type": "code",
   "execution_count": 10,
   "metadata": {},
   "outputs": [],
   "source": [
    "from fastestimator.op.numpyop import NumpyOp\n",
    "\n",
    "class AddRandomNoise(NumpyOp):\n",
    "    def forward(self, data, state):\n",
    "        # generate noise array with 0 mean and 0.1 standard deviation\n",
    "        noise = np.random.normal(0, 0.1, data.shape)\n",
    "        data = data + noise\n",
    "        return data\n",
    "    \n",
    "random_noise_op = AddRandomNoise(inputs=\"x_out\", outputs=\"x_out\")"
   ]
  },
  {
   "cell_type": "markdown",
   "metadata": {},
   "source": [
    "<a id='t04vis'></a>"
   ]
  },
  {
   "cell_type": "markdown",
   "metadata": {},
   "source": [
    "### Visualizing Pipeline Outputs"
   ]
  },
  {
   "cell_type": "markdown",
   "metadata": {},
   "source": [
    "Now, let's add our `NumpyOp`s into the `Pipeline` and visualize the results. "
   ]
  },
  {
   "cell_type": "code",
   "execution_count": 11,
   "metadata": {},
   "outputs": [
    {
     "data": {
      "image/png": "[encoded data removed]",
      "text/plain": [
       "<Figure size 450x640 with 6 Axes>"
      ]
     },
     "metadata": {
      "needs_background": "light"
     },
     "output_type": "display_data"
    }
   ],
   "source": [
    "pipeline = fe.Pipeline(train_data=mnist_train,\n",
    "                       eval_data=mnist_eval,\n",
    "                       ops=[minmax_op, rotation_op, random_noise_op],\n",
    "                       batch_size=3)\n",
    "\n",
    "data = pipeline.get_results()\n",
    "img = fe.util.ImgData(original_image=data[\"x\"], pipeline_output=data[\"x_out\"])\n",
    "fig = img.paint_figure()"
   ]
  },
  {
   "cell_type": "markdown",
   "metadata": {},
   "source": [
    "<a id='t04apphub'></a>"
   ]
  },
  {
   "cell_type": "markdown",
   "metadata": {},
   "source": [
    "## Apphub Examples\n",
    "You can find some practical examples of the concepts described here in the following FastEstimator Apphubs:\n",
    "\n",
    "* [CIFAR10](../../apphub/image_classification/cifar10_fast/cifar10_fast.ipynb)\n",
    "* [Bert](../../apphub/NLP/named_entity_recognition/bert.ipynb)\n",
    "* [FGSM](../../apphub/adversarial_training/fgsm/fgsm.ipynb)"
   ]
  }
 ],
 "metadata": {
  "kernelspec": {
   "display_name": "Python 3",
   "language": "python",
   "name": "python3"
  },
  "language_info": {
   "codemirror_mode": {
    "name": "ipython",
    "version": 3
   },
   "file_extension": ".py",
   "mimetype": "text/x-python",
   "name": "python",
   "nbconvert_exporter": "python",
   "pygments_lexer": "ipython3",
   "version": "3.6.12"
  }
 },
 "nbformat": 4,
 "nbformat_minor": 4
}
