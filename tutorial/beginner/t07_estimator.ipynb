{
 "cells": [
  {
   "cell_type": "markdown",
   "metadata": {},
   "source": [
    "# Tutorial 7: Estimator\n",
    "\n",
    "## Overview\n",
    "In this tutorial, we will talk about:\n",
    "* [Estimator API](#t07estimator)\n",
    "    * [Reducing the number of training steps per epoch](#t07train)\n",
    "    * [Reducing the number of evaluation steps per epoch](#t07eval)\n",
    "    * [Changing logging behavior](#t07logging)\n",
    "    * [Monitoring intermediate results during training](#t07intermediate)\n",
    "* [Trace](#t07trace)\n",
    "    * [Concept](#t07concept)\n",
    "    * [Structure](#t07structure)\n",
    "    * [Usage](#t07usage)\n",
    "* [Model Testing](#t07testing)\n",
    "* [Related Apphub Examples](#t07apphub)"
   ]
  },
  {
   "cell_type": "markdown",
   "metadata": {},
   "source": [
    "`Estimator` is the API that manages everything related to the training loop. It combines `Pipeline` and `Network` together and provides users with fine-grain control over the training loop. Before we demonstrate different ways to control the training loop let's define a template similar to [tutorial 1](./t01_getting_started.ipynb), but this time we will use a PyTorch model."
   ]
  },
  {
   "cell_type": "code",
   "execution_count": 1,
   "metadata": {},
   "outputs": [],
   "source": [
    "import fastestimator as fe\n",
    "from fastestimator.architecture.pytorch import LeNet\n",
    "from fastestimator.dataset.data import mnist\n",
    "from fastestimator.op.numpyop.univariate import ExpandDims, Minmax\n",
    "from fastestimator.op.tensorop.loss import CrossEntropy\n",
    "from fastestimator.op.tensorop.model import ModelOp, UpdateOp\n",
    "import tempfile\n",
    "\n",
    "def get_estimator(log_steps=100, monitor_names=None, use_trace=False, max_train_steps_per_epoch=None, epochs=2):\n",
    "    # step 1\n",
    "    train_data, eval_data = mnist.load_data()\n",
    "    test_data = eval_data.split(0.5)\n",
    "    pipeline = fe.Pipeline(train_data=train_data,\n",
    "                           eval_data=eval_data,\n",
    "                           test_data=test_data,\n",
    "                           batch_size=32,\n",
    "                           ops=[ExpandDims(inputs=\"x\", outputs=\"x\", axis=0), Minmax(inputs=\"x\", outputs=\"x\")])\n",
    "    # step 2\n",
    "    model = fe.build(model_fn=LeNet, optimizer_fn=\"adam\", model_name=\"LeNet\")\n",
    "    network = fe.Network(ops=[\n",
    "        ModelOp(model=model, inputs=\"x\", outputs=\"y_pred\"),\n",
    "        CrossEntropy(inputs=(\"y_pred\", \"y\"), outputs=\"ce\"),\n",
    "        CrossEntropy(inputs=(\"y_pred\", \"y\"), outputs=\"ce1\"),\n",
    "        UpdateOp(model=model, loss_name=\"ce\")\n",
    "    ])\n",
    "    # step 3\n",
    "    traces = None\n",
    "    if use_trace:\n",
    "        traces = [Accuracy(true_key=\"y\", pred_key=\"y_pred\"), \n",
    "                  BestModelSaver(model=model, save_dir=tempfile.mkdtemp(), metric=\"accuracy\", save_best_mode=\"max\")]\n",
    "    estimator = fe.Estimator(pipeline=pipeline,\n",
    "                             network=network,\n",
    "                             epochs=epochs,\n",
    "                             traces=traces,\n",
    "                             max_train_steps_per_epoch=max_train_steps_per_epoch,\n",
    "                             log_steps=log_steps,\n",
    "                             monitor_names=monitor_names)\n",
    "    return estimator"
   ]
  },
  {
   "cell_type": "markdown",
   "metadata": {},
   "source": [
    "Let's train our model using the default `Estimator` arguments:"
   ]
  },
  {
   "cell_type": "code",
   "execution_count": 2,
   "metadata": {},
   "outputs": [
    {
     "name": "stdout",
     "output_type": "stream",
     "text": [
      "    ______           __  ______     __  _                 __            \n",
      "   / ____/___ ______/ /_/ ____/____/ /_(_)___ ___  ____ _/ /_____  _____\n",
      "  / /_  / __ `/ ___/ __/ __/ / ___/ __/ / __ `__ \\/ __ `/ __/ __ \\/ ___/\n",
      " / __/ / /_/ (__  ) /_/ /___(__  ) /_/ / / / / / / /_/ / /_/ /_/ / /    \n",
      "/_/    \\__,_/____/\\__/_____/____/\\__/_/_/ /_/ /_/\\__,_/\\__/\\____/_/     \n",
      "                                                                        \n",
      "\n",
      "FastEstimator-Warn: No ModelSaver Trace detected. Models will not be saved.\n",
      "FastEstimator-Start: step: 1; num_device: 1; logging_interval: 100; \n",
      "FastEstimator-Train: step: 1; ce: 2.295395; \n",
      "FastEstimator-Train: step: 100; ce: 0.8820845; steps/sec: 320.73; \n",
      "FastEstimator-Train: step: 200; ce: 0.37291068; steps/sec: 319.45; \n",
      "FastEstimator-Train: step: 300; ce: 0.06651708; steps/sec: 309.93; \n",
      "FastEstimator-Train: step: 400; ce: 0.21876352; steps/sec: 309.78; \n",
      "FastEstimator-Train: step: 500; ce: 0.08403016; steps/sec: 309.19; \n",
      "FastEstimator-Train: step: 600; ce: 0.35541984; steps/sec: 308.78; \n",
      "FastEstimator-Train: step: 700; ce: 0.06964149; steps/sec: 300.41; \n",
      "FastEstimator-Train: step: 800; ce: 0.13983297; steps/sec: 309.22; \n",
      "FastEstimator-Train: step: 900; ce: 0.037845124; steps/sec: 312.94; \n",
      "FastEstimator-Train: step: 1000; ce: 0.13029681; steps/sec: 316.27; \n",
      "FastEstimator-Train: step: 1100; ce: 0.022184685; steps/sec: 312.62; \n",
      "FastEstimator-Train: step: 1200; ce: 0.039918672; steps/sec: 315.24; \n",
      "FastEstimator-Train: step: 1300; ce: 0.05553157; steps/sec: 313.87; \n",
      "FastEstimator-Train: step: 1400; ce: 0.0021400168; steps/sec: 343.22; \n",
      "FastEstimator-Train: step: 1500; ce: 0.07833527; steps/sec: 336.56; \n",
      "FastEstimator-Train: step: 1600; ce: 0.09543828; steps/sec: 324.81; \n",
      "FastEstimator-Train: step: 1700; ce: 0.14825855; steps/sec: 318.52; \n",
      "FastEstimator-Train: step: 1800; ce: 0.01032154; steps/sec: 322.95; \n",
      "FastEstimator-Train: step: 1875; epoch: 1; epoch_time: 5.99 sec; \n",
      "FastEstimator-Eval: step: 1875; epoch: 1; ce: 0.06244616; \n",
      "FastEstimator-Train: step: 1900; ce: 0.015050106; steps/sec: 263.35; \n",
      "FastEstimator-Train: step: 2000; ce: 0.003486173; steps/sec: 295.2; \n",
      "FastEstimator-Train: step: 2100; ce: 0.06401425; steps/sec: 310.64; \n",
      "FastEstimator-Train: step: 2200; ce: 0.008118075; steps/sec: 297.08; \n",
      "FastEstimator-Train: step: 2300; ce: 0.05136842; steps/sec: 289.31; \n",
      "FastEstimator-Train: step: 2400; ce: 0.10011706; steps/sec: 290.44; \n",
      "FastEstimator-Train: step: 2500; ce: 0.007041894; steps/sec: 287.94; \n",
      "FastEstimator-Train: step: 2600; ce: 0.041005336; steps/sec: 301.21; \n",
      "FastEstimator-Train: step: 2700; ce: 0.0023359149; steps/sec: 311.66; \n",
      "FastEstimator-Train: step: 2800; ce: 0.034970395; steps/sec: 278.47; \n",
      "FastEstimator-Train: step: 2900; ce: 0.024958389; steps/sec: 294.08; \n",
      "FastEstimator-Train: step: 3000; ce: 0.0038549905; steps/sec: 291.1; \n",
      "FastEstimator-Train: step: 3100; ce: 0.14712071; steps/sec: 311.67; \n",
      "FastEstimator-Train: step: 3200; ce: 0.14290668; steps/sec: 316.4; \n",
      "FastEstimator-Train: step: 3300; ce: 0.34252185; steps/sec: 304.94; \n",
      "FastEstimator-Train: step: 3400; ce: 0.0059393854; steps/sec: 297.43; \n",
      "FastEstimator-Train: step: 3500; ce: 0.2493474; steps/sec: 323.9; \n",
      "FastEstimator-Train: step: 3600; ce: 0.004362625; steps/sec: 322.78; \n",
      "FastEstimator-Train: step: 3700; ce: 0.0058870725; steps/sec: 296.6; \n",
      "FastEstimator-Train: step: 3750; epoch: 2; epoch_time: 6.31 sec; \n",
      "FastEstimator-Eval: step: 3750; epoch: 2; ce: 0.053535815; \n",
      "FastEstimator-Finish: step: 3750; total_time: 14.81 sec; LeNet_lr: 0.001; \n"
     ]
    }
   ],
   "source": [
    "est = get_estimator()\n",
    "est.fit()"
   ]
  },
  {
   "cell_type": "markdown",
   "metadata": {},
   "source": [
    "<a id='t07estimator'></a>"
   ]
  },
  {
   "cell_type": "markdown",
   "metadata": {},
   "source": [
    "## Estimator API"
   ]
  },
  {
   "cell_type": "markdown",
   "metadata": {},
   "source": [
    "<a id='t07train'></a>"
   ]
  },
  {
   "cell_type": "markdown",
   "metadata": {},
   "source": [
    "### Reduce the number of training steps per epoch\n",
    "In general, one epoch of training means that every element in the training dataset will be visited exactly one time. If evaluation data is available, evaluation happens after every epoch by default. Consider the following two scenarios:\n",
    "\n",
    "* The training dataset is very large such that evaluation needs to happen multiple times during one epoch.\n",
    "* Different training datasets are being used for different epochs, but the number of training steps should be consistent between each epoch.\n",
    "\n",
    "One easy solution to the above scenarios is to limit the number of training steps per epoch. For example, if we want to train for only 300 steps per epoch, with training lasting for 4 epochs (1200 steps total), we would do the following:"
   ]
  },
  {
   "cell_type": "code",
   "execution_count": 3,
   "metadata": {},
   "outputs": [
    {
     "name": "stdout",
     "output_type": "stream",
     "text": [
      "    ______           __  ______     __  _                 __            \n",
      "   / ____/___ ______/ /_/ ____/____/ /_(_)___ ___  ____ _/ /_____  _____\n",
      "  / /_  / __ `/ ___/ __/ __/ / ___/ __/ / __ `__ \\/ __ `/ __/ __ \\/ ___/\n",
      " / __/ / /_/ (__  ) /_/ /___(__  ) /_/ / / / / / / /_/ / /_/ /_/ / /    \n",
      "/_/    \\__,_/____/\\__/_____/____/\\__/_/_/ /_/ /_/\\__,_/\\__/\\____/_/     \n",
      "                                                                        \n",
      "\n",
      "FastEstimator-Warn: No ModelSaver Trace detected. Models will not be saved.\n",
      "FastEstimator-Start: step: 1; num_device: 1; logging_interval: 100; \n",
      "FastEstimator-Train: step: 1; ce: 2.311253; \n",
      "FastEstimator-Train: step: 100; ce: 0.66614795; steps/sec: 274.95; \n",
      "FastEstimator-Train: step: 200; ce: 0.46526748; steps/sec: 309.99; \n",
      "FastEstimator-Train: step: 300; ce: 0.11188476; steps/sec: 336.57; \n",
      "FastEstimator-Train: step: 300; epoch: 1; epoch_time: 0.99 sec; \n",
      "FastEstimator-Eval: step: 300; epoch: 1; ce: 0.17669827; \n",
      "FastEstimator-Train: step: 400; ce: 0.2917202; steps/sec: 332.81; \n",
      "FastEstimator-Train: step: 500; ce: 0.047290877; steps/sec: 323.56; \n",
      "FastEstimator-Train: step: 600; ce: 0.053344093; steps/sec: 315.52; \n",
      "FastEstimator-Train: step: 600; epoch: 2; epoch_time: 0.93 sec; \n",
      "FastEstimator-Eval: step: 600; epoch: 2; ce: 0.11926653; \n",
      "FastEstimator-Train: step: 700; ce: 0.06439964; steps/sec: 300.28; \n",
      "FastEstimator-Train: step: 800; ce: 0.026502458; steps/sec: 300.13; \n",
      "FastEstimator-Train: step: 900; ce: 0.34012184; steps/sec: 303.24; \n",
      "FastEstimator-Train: step: 900; epoch: 3; epoch_time: 1.0 sec; \n",
      "FastEstimator-Eval: step: 900; epoch: 3; ce: 0.075678065; \n",
      "FastEstimator-Train: step: 1000; ce: 0.044892587; steps/sec: 285.03; \n",
      "FastEstimator-Train: step: 1100; ce: 0.037321247; steps/sec: 293.51; \n",
      "FastEstimator-Train: step: 1200; ce: 0.011022182; steps/sec: 294.91; \n",
      "FastEstimator-Train: step: 1200; epoch: 4; epoch_time: 1.03 sec; \n",
      "FastEstimator-Eval: step: 1200; epoch: 4; ce: 0.06031439; \n",
      "FastEstimator-Finish: step: 1200; total_time: 9.29 sec; LeNet_lr: 0.001; \n"
     ]
    }
   ],
   "source": [
    "est = get_estimator(max_train_steps_per_epoch=300, epochs=4)\n",
    "est.fit()"
   ]
  },
  {
   "cell_type": "markdown",
   "metadata": {},
   "source": [
    "<a id='t07eval'></a>"
   ]
  },
  {
   "cell_type": "markdown",
   "metadata": {},
   "source": [
    "### Reduce the number of evaluation steps per epoch\n",
    "One may need to reduce the number of evaluation steps for debugging purpose. This can be easily done by setting the `max_eval_steps_per_epoch` argument in `Estimator`."
   ]
  },
  {
   "cell_type": "markdown",
   "metadata": {},
   "source": [
    "<a id='t07logging'></a>"
   ]
  },
  {
   "cell_type": "markdown",
   "metadata": {},
   "source": [
    "### Change logging behavior\n",
    "When the number of training epochs is large, the log can become verbose. You can change the logging behavior by choosing one of following options:\n",
    "* set `log_steps` to `None` if you do not want to see any training logs printed.\n",
    "* set `log_steps` to 0 if you only wish to see the evaluation logs.\n",
    "* set `log_steps` to some integer 'x' if you want training logs to be printed every 'x' steps.\n",
    "\n",
    "Let's set the `log_steps` to 0:"
   ]
  },
  {
   "cell_type": "code",
   "execution_count": 4,
   "metadata": {},
   "outputs": [
    {
     "name": "stdout",
     "output_type": "stream",
     "text": [
      "    ______           __  ______     __  _                 __            \n",
      "   / ____/___ ______/ /_/ ____/____/ /_(_)___ ___  ____ _/ /_____  _____\n",
      "  / /_  / __ `/ ___/ __/ __/ / ___/ __/ / __ `__ \\/ __ `/ __/ __ \\/ ___/\n",
      " / __/ / /_/ (__  ) /_/ /___(__  ) /_/ / / / / / / /_/ / /_/ /_/ / /    \n",
      "/_/    \\__,_/____/\\__/_____/____/\\__/_/_/ /_/ /_/\\__,_/\\__/\\____/_/     \n",
      "                                                                        \n",
      "\n",
      "FastEstimator-Warn: No ModelSaver Trace detected. Models will not be saved.\n",
      "FastEstimator-Start: step: 1; num_device: 1; logging_interval: 0; \n",
      "FastEstimator-Eval: step: 300; epoch: 1; ce: 0.16322972; \n",
      "FastEstimator-Eval: step: 600; epoch: 2; ce: 0.10085282; \n",
      "FastEstimator-Eval: step: 900; epoch: 3; ce: 0.08177921; \n",
      "FastEstimator-Eval: step: 1200; epoch: 4; ce: 0.0629242; \n",
      "FastEstimator-Finish: step: 1200; total_time: 9.14 sec; LeNet_lr: 0.001; \n"
     ]
    }
   ],
   "source": [
    "est = get_estimator(max_train_steps_per_epoch=300, epochs=4, log_steps=0)\n",
    "est.fit()"
   ]
  },
  {
   "cell_type": "markdown",
   "metadata": {},
   "source": [
    "<a id='t07intermediate'></a>"
   ]
  },
  {
   "cell_type": "markdown",
   "metadata": {},
   "source": [
    "### Monitor intermediate results\n",
    "You might have noticed that in our example `Network` there is an op: `CrossEntropy(inputs=(\"y_pred\", \"y\") outputs=\"ce1\")`. However, the `ce1` never shows up in the training log above. This is because FastEstimator identifies and filters out unused variables to reduce unnecessary communication between the GPU and CPU. On the contrary, `ce` shows up in the log because by default we log all loss values that are used to update models.\n",
    "\n",
    "But what if we want to see the value of `ce1` throughout training?\n",
    "\n",
    "Easy: just add `ce1` to `monitor_names` in `Estimator`."
   ]
  },
  {
   "cell_type": "code",
   "execution_count": 5,
   "metadata": {},
   "outputs": [
    {
     "name": "stdout",
     "output_type": "stream",
     "text": [
      "    ______           __  ______     __  _                 __            \n",
      "   / ____/___ ______/ /_/ ____/____/ /_(_)___ ___  ____ _/ /_____  _____\n",
      "  / /_  / __ `/ ___/ __/ __/ / ___/ __/ / __ `__ \\/ __ `/ __/ __ \\/ ___/\n",
      " / __/ / /_/ (__  ) /_/ /___(__  ) /_/ / / / / / / /_/ / /_/ /_/ / /    \n",
      "/_/    \\__,_/____/\\__/_____/____/\\__/_/_/ /_/ /_/\\__,_/\\__/\\____/_/     \n",
      "                                                                        \n",
      "\n",
      "FastEstimator-Warn: No ModelSaver Trace detected. Models will not be saved.\n",
      "FastEstimator-Start: step: 1; num_device: 1; logging_interval: 150; \n",
      "FastEstimator-Train: step: 1; ce: 2.2930875; ce1: 2.2930875; \n",
      "FastEstimator-Train: step: 150; ce: 0.29343712; ce1: 0.29343712; steps/sec: 292.71; \n",
      "FastEstimator-Train: step: 300; ce: 0.37277684; ce1: 0.37277684; steps/sec: 284.64; \n",
      "FastEstimator-Train: step: 300; epoch: 1; epoch_time: 1.05 sec; \n",
      "FastEstimator-Eval: step: 300; epoch: 1; ce: 0.21327984; ce1: 0.21327984; \n",
      "FastEstimator-Train: step: 450; ce: 0.3631664; ce1: 0.3631664; steps/sec: 277.43; \n",
      "FastEstimator-Train: step: 600; ce: 0.2957161; ce1: 0.2957161; steps/sec: 304.11; \n",
      "FastEstimator-Train: step: 600; epoch: 2; epoch_time: 1.03 sec; \n",
      "FastEstimator-Eval: step: 600; epoch: 2; ce: 0.10858435; ce1: 0.10858435; \n",
      "FastEstimator-Train: step: 750; ce: 0.1193773; ce1: 0.1193773; steps/sec: 301.03; \n",
      "FastEstimator-Train: step: 900; ce: 0.05718822; ce1: 0.05718822; steps/sec: 294.92; \n",
      "FastEstimator-Train: step: 900; epoch: 3; epoch_time: 1.01 sec; \n",
      "FastEstimator-Eval: step: 900; epoch: 3; ce: 0.093043245; ce1: 0.093043245; \n",
      "FastEstimator-Train: step: 1050; ce: 0.102503434; ce1: 0.102503434; steps/sec: 297.27; \n",
      "FastEstimator-Train: step: 1200; ce: 0.011180073; ce1: 0.011180073; steps/sec: 296.55; \n",
      "FastEstimator-Train: step: 1200; epoch: 4; epoch_time: 1.01 sec; \n",
      "FastEstimator-Eval: step: 1200; epoch: 4; ce: 0.082674295; ce1: 0.082674295; \n",
      "FastEstimator-Finish: step: 1200; total_time: 9.62 sec; LeNet_lr: 0.001; \n"
     ]
    }
   ],
   "source": [
    "est = get_estimator(max_train_steps_per_epoch=300, epochs=4, log_steps=150, monitor_names=\"ce1\")\n",
    "est.fit()"
   ]
  },
  {
   "cell_type": "markdown",
   "metadata": {},
   "source": [
    "As we can see, both `ce` and `ce1` showed up in the log above. Unsurprisingly, their values are identical because because they have the same inputs and forward function."
   ]
  },
  {
   "cell_type": "markdown",
   "metadata": {},
   "source": [
    "<a id='t07trace'></a>"
   ]
  },
  {
   "cell_type": "markdown",
   "metadata": {},
   "source": [
    "## Trace"
   ]
  },
  {
   "cell_type": "markdown",
   "metadata": {},
   "source": [
    "<a id='t07concept'></a>"
   ]
  },
  {
   "cell_type": "markdown",
   "metadata": {},
   "source": [
    "### Concept\n",
    "Now you might be thinking: 'changing logging behavior and monitoring extra keys is cool, but where is the fine-grained access to the training loop?' \n",
    "\n",
    "The answer is `Trace`. `Trace` is a module that can offer you access to different training stages and allow you \"do stuff\" with them. Here are some examples of what a `Trace` can do:\n",
    "\n",
    "* print any training data at any training step\n",
    "* write results to a file during training\n",
    "* change learning rate based on some loss conditions\n",
    "* calculate any metrics \n",
    "* order you a pizza after training ends\n",
    "* ...\n",
    "\n",
    "So what are the different training stages? They are:\n",
    "\n",
    "* Beginning of training\n",
    "* Beginning of epoch\n",
    "* Beginning of batch\n",
    "* End of batch\n",
    "* End of epoch\n",
    "* End of training\n",
    "\n",
    "<img src=\"../resources/t07_trace_concept.png\" alt=\"drawing\" width=\"500\"/>\n",
    "\n",
    "As we can see from the illustration above, the training process is essentially a nested combination of batch loops and epoch loops. Over the course of training, `Trace` places 6 different \"road blocks\" for you to leverage."
   ]
  },
  {
   "cell_type": "markdown",
   "metadata": {},
   "source": [
    "<a id='t07structure'></a>"
   ]
  },
  {
   "cell_type": "markdown",
   "metadata": {},
   "source": [
    "### Structure\n",
    "If you are familiar with Keras, you will notice that the structure of `Trace` is very similar to the `Callback` in keras.  Despite the structural similarity, `Trace` gives you a lot more flexibility which we will talk about in depth in [advanced tutorial 4](../advanced/t04_trace.ipynb). Implementation-wise, `Trace` is a python class with the following structure:"
   ]
  },
  {
   "cell_type": "code",
   "execution_count": 6,
   "metadata": {},
   "outputs": [],
   "source": [
    "class Trace:\n",
    "    def __init__(self, inputs=None, outputs=None, mode=None):\n",
    "        self.inputs = inputs\n",
    "        self.outputs = outputs\n",
    "        self.mode = mode\n",
    "\n",
    "    def on_begin(self, data):\n",
    "        \"\"\"Runs once at the beginning of training\"\"\"\n",
    "\n",
    "    def on_epoch_begin(self, data):\n",
    "        \"\"\"Runs at the beginning of each epoch\"\"\"\n",
    "\n",
    "    def on_batch_begin(self, data):\n",
    "        \"\"\"Runs at the beginning of each batch\"\"\"\n",
    "\n",
    "    def on_batch_end(self, data):\n",
    "        \"\"\"Runs at the end of each batch\"\"\"\n",
    "\n",
    "    def on_epoch_end(self, data):\n",
    "        \"\"\"Runs at the end of each epoch\"\"\"\n",
    "\n",
    "    def on_end(self, data):\n",
    "        \"\"\"Runs once at the end training\"\"\""
   ]
  },
  {
   "cell_type": "markdown",
   "metadata": {},
   "source": [
    "Given the structure, users can customize their own functions at different stages and insert them into the training loop. We will leave the customization of `Traces` to the advanced tutorial. For now, let's use some pre-built `Traces` from FastEstimator.\n",
    "\n",
    "During the training loop in our earlier example, we want 2 things to happen:\n",
    "1. Save the model weights if the evaluation loss is the best we have seen so far\n",
    "2. Calculate the model accuracy during evaluation"
   ]
  },
  {
   "cell_type": "markdown",
   "metadata": {},
   "source": [
    "<a id='t07usage'></a>"
   ]
  },
  {
   "cell_type": "code",
   "execution_count": 7,
   "metadata": {},
   "outputs": [
    {
     "name": "stdout",
     "output_type": "stream",
     "text": [
      "    ______           __  ______     __  _                 __            \n",
      "   / ____/___ ______/ /_/ ____/____/ /_(_)___ ___  ____ _/ /_____  _____\n",
      "  / /_  / __ `/ ___/ __/ __/ / ___/ __/ / __ `__ \\/ __ `/ __/ __ \\/ ___/\n",
      " / __/ / /_/ (__  ) /_/ /___(__  ) /_/ / / / / / / /_/ / /_/ /_/ / /    \n",
      "/_/    \\__,_/____/\\__/_____/____/\\__/_/_/ /_/ /_/\\__,_/\\__/\\____/_/     \n",
      "                                                                        \n",
      "\n",
      "FastEstimator-Start: step: 1; num_device: 1; logging_interval: 100; \n",
      "FastEstimator-Train: step: 1; ce: 2.303516; \n",
      "FastEstimator-Train: step: 100; ce: 1.004676; steps/sec: 286.36; \n",
      "FastEstimator-Train: step: 200; ce: 0.49630624; steps/sec: 286.83; \n",
      "FastEstimator-Train: step: 300; ce: 0.12231735; steps/sec: 291.9; \n",
      "FastEstimator-Train: step: 400; ce: 0.14592598; steps/sec: 315.7; \n",
      "FastEstimator-Train: step: 500; ce: 0.25857; steps/sec: 326.27; \n",
      "FastEstimator-Train: step: 600; ce: 0.13771628; steps/sec: 331.77; \n",
      "FastEstimator-Train: step: 700; ce: 0.38054478; steps/sec: 301.89; \n",
      "FastEstimator-Train: step: 800; ce: 0.07086247; steps/sec: 291.58; \n",
      "FastEstimator-Train: step: 900; ce: 0.16959156; steps/sec: 308.7; \n",
      "FastEstimator-Train: step: 1000; ce: 0.021332668; steps/sec: 324.17; \n",
      "FastEstimator-Train: step: 1100; ce: 0.055990797; steps/sec: 287.57; \n",
      "FastEstimator-Train: step: 1200; ce: 0.2849428; steps/sec: 292.77; \n",
      "FastEstimator-Train: step: 1300; ce: 0.20509654; steps/sec: 288.14; \n",
      "FastEstimator-Train: step: 1400; ce: 0.08241908; steps/sec: 321.32; \n",
      "FastEstimator-Train: step: 1500; ce: 0.024668839; steps/sec: 320.73; \n",
      "FastEstimator-Train: step: 1600; ce: 0.01093893; steps/sec: 325.12; \n",
      "FastEstimator-Train: step: 1700; ce: 0.012216274; steps/sec: 330.77; \n",
      "FastEstimator-Train: step: 1800; ce: 0.01524183; steps/sec: 328.2; \n",
      "FastEstimator-Train: step: 1875; epoch: 1; epoch_time: 6.15 sec; \n",
      "FastEstimator-BestModelSaver: Saved model to /tmp/tmplhuyv721/LeNet_best_accuracy.pt\n",
      "FastEstimator-Eval: step: 1875; epoch: 1; ce: 0.048887283; accuracy: 0.9814; since_best_accuracy: 0; max_accuracy: 0.9814; \n",
      "FastEstimator-Train: step: 1900; ce: 0.0056912354; steps/sec: 267.68; \n",
      "FastEstimator-Train: step: 2000; ce: 0.06863687; steps/sec: 312.62; \n",
      "FastEstimator-Train: step: 2100; ce: 0.071683794; steps/sec: 319.51; \n",
      "FastEstimator-Train: step: 2200; ce: 0.023103738; steps/sec: 313.75; \n",
      "FastEstimator-Train: step: 2300; ce: 0.011231604; steps/sec: 315.5; \n",
      "FastEstimator-Train: step: 2400; ce: 0.17630634; steps/sec: 310.87; \n",
      "FastEstimator-Train: step: 2500; ce: 0.01526911; steps/sec: 315.78; \n",
      "FastEstimator-Train: step: 2600; ce: 0.06935612; steps/sec: 310.69; \n",
      "FastEstimator-Train: step: 2700; ce: 0.14090665; steps/sec: 308.39; \n",
      "FastEstimator-Train: step: 2800; ce: 0.0023762842; steps/sec: 309.23; \n",
      "FastEstimator-Train: step: 2900; ce: 0.025511805; steps/sec: 309.84; \n",
      "FastEstimator-Train: step: 3000; ce: 0.094952986; steps/sec: 318.57; \n",
      "FastEstimator-Train: step: 3100; ce: 0.011754904; steps/sec: 299.48; \n",
      "FastEstimator-Train: step: 3200; ce: 0.033963054; steps/sec: 303.24; \n",
      "FastEstimator-Train: step: 3300; ce: 0.013373202; steps/sec: 317.35; \n",
      "FastEstimator-Train: step: 3400; ce: 0.064900294; steps/sec: 295.58; \n",
      "FastEstimator-Train: step: 3500; ce: 0.29719537; steps/sec: 307.13; \n",
      "FastEstimator-Train: step: 3600; ce: 0.185368; steps/sec: 307.28; \n",
      "FastEstimator-Train: step: 3700; ce: 0.005988597; steps/sec: 278.04; \n",
      "FastEstimator-Train: step: 3750; epoch: 2; epoch_time: 6.19 sec; \n",
      "FastEstimator-BestModelSaver: Saved model to /tmp/tmplhuyv721/LeNet_best_accuracy.pt\n",
      "FastEstimator-Eval: step: 3750; epoch: 2; ce: 0.03341377; accuracy: 0.9896; since_best_accuracy: 0; max_accuracy: 0.9896; \n",
      "FastEstimator-Finish: step: 3750; total_time: 14.96 sec; LeNet_lr: 0.001; \n"
     ]
    }
   ],
   "source": [
    "from fastestimator.trace.io import BestModelSaver\n",
    "from fastestimator.trace.metric import Accuracy\n",
    "\n",
    "est = get_estimator(use_trace=True)\n",
    "est.fit()"
   ]
  },
  {
   "cell_type": "markdown",
   "metadata": {},
   "source": [
    "As we can see from the log, the model is saved in a predefined location and the accuracy is displayed during evaluation."
   ]
  },
  {
   "cell_type": "markdown",
   "metadata": {},
   "source": [
    "<a id='t07testing'></a>"
   ]
  },
  {
   "cell_type": "markdown",
   "metadata": {},
   "source": [
    "## Model Testing\n",
    "\n",
    "Sometimes you have a separate testing dataset other than training and evaluation data. If you want to evalate the model metrics on test data, you can simply call: "
   ]
  },
  {
   "cell_type": "code",
   "execution_count": 8,
   "metadata": {},
   "outputs": [
    {
     "name": "stdout",
     "output_type": "stream",
     "text": [
      "FastEstimator-Test: step: 3750; epoch: 2; accuracy: 0.9894; \n"
     ]
    }
   ],
   "source": [
    "est.test()"
   ]
  },
  {
   "cell_type": "markdown",
   "metadata": {},
   "source": [
    "This will feed all of your test dataset through the `Pipeline` and `Network`, and finally execute the traces (in our case, compute accuracy) just like during the training."
   ]
  },
  {
   "cell_type": "markdown",
   "metadata": {},
   "source": [
    "<a id='t07apphub'></a>"
   ]
  },
  {
   "cell_type": "markdown",
   "metadata": {},
   "source": [
    "## Apphub Examples\n",
    "You can find some practical examples of the concepts described here in the following FastEstimator Apphubs:\n",
    "\n",
    "* [UNet](../../apphub/semantic_segmentation/unet/unet.ipynb)"
   ]
  }
 ],
 "metadata": {
  "kernelspec": {
   "display_name": "Python 3",
   "language": "python",
   "name": "python3"
  },
  "language_info": {
   "codemirror_mode": {
    "name": "ipython",
    "version": 3
   },
   "file_extension": ".py",
   "mimetype": "text/x-python",
   "name": "python",
   "nbconvert_exporter": "python",
   "pygments_lexer": "ipython3",
   "version": "3.6.12"
  }
 },
 "nbformat": 4,
 "nbformat_minor": 4
}
